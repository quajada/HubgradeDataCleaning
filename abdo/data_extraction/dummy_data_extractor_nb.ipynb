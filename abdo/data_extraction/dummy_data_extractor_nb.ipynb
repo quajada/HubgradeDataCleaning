{
 "cells": [
  {
   "cell_type": "code",
   "execution_count": 6,
   "metadata": {},
   "outputs": [],
   "source": [
    "import pandas as pd"
   ]
  },
  {
   "cell_type": "code",
   "execution_count": 7,
   "metadata": {},
   "outputs": [],
   "source": [
    "path=\"dummy_data\""
   ]
  },
  {
   "cell_type": "code",
   "execution_count": 8,
   "metadata": {},
   "outputs": [],
   "source": [
    "df = pd.read_csv(path+\"/masterTable1_.csv\")\n",
    "df_data1 = pd.read_csv(path+\"/masterTable1_data_1.csv\", index_col=[0], date_format=\"%Y-%m-%dT%H:%M:%S%z Dubai\").reset_index()  \n",
    "# df_data2 = pd.read_csv(path+\"/masterTable1_data_2.csv\", index_col=[0], date_format=\"%Y-%m-%dT%H:%M:%S%z Dubai\").reset_index()\n",
    "df_data = pd.DataFrame({\"data\":[df_data1] })  \n",
    "df.loc[:, \"data\"] = df_data"
   ]
  },
  {
   "cell_type": "code",
   "execution_count": 9,
   "metadata": {},
   "outputs": [],
   "source": [
    "\n",
    "pythonDF = pd.DataFrame()\n",
    "# loop over the ssData and extract the data from each row\n",
    "for i in range(len(df)):\n",
    "    pythonDF.loc[i, 'pointID'] = df['id'].iloc[i]\n",
    "    pythonDF.loc[i, 'unit'] = df[\"unit\"].iloc[i]\n",
    "    pythonDF.loc[i, 'dqType'] = df[\"dqType\"].iloc[i]\n",
    "    pythonDF.loc[i, 'dqStart'] = pd.to_datetime(df['ts'].iloc[i], format=\"%Y-%m-%dT%H:%M:%S%z Dubai\")\n",
    "    pythonDF.loc[i, 'dqDuration'] = pd.Timedelta(df['dur'].iloc[i])\n",
    "    pythonDF.loc[i, 'pointInterval'] =  pd.Timedelta(df[\"freq\"].iloc[i])\n",
    "    pythonDF.loc[i, 'features'] =  df['featId'].iloc[i]\n",
    "\n",
    "pythonDF.loc[:, 'his'] =  df['data']\n"
   ]
  },
  {
   "cell_type": "code",
   "execution_count": 10,
   "metadata": {},
   "outputs": [
    {
     "data": {
      "text/html": [
       "<div>\n",
       "<style scoped>\n",
       "    .dataframe tbody tr th:only-of-type {\n",
       "        vertical-align: middle;\n",
       "    }\n",
       "\n",
       "    .dataframe tbody tr th {\n",
       "        vertical-align: top;\n",
       "    }\n",
       "\n",
       "    .dataframe thead th {\n",
       "        text-align: right;\n",
       "    }\n",
       "</style>\n",
       "<table border=\"1\" class=\"dataframe\">\n",
       "  <thead>\n",
       "    <tr style=\"text-align: right;\">\n",
       "      <th></th>\n",
       "      <th>Timestamp</th>\n",
       "      <th>val</th>\n",
       "      <th>discharge_Chilled_Water_Cool_Valve_Cmd_AHU_01_B1_Copy</th>\n",
       "    </tr>\n",
       "  </thead>\n",
       "  <tbody>\n",
       "    <tr>\n",
       "      <th>0</th>\n",
       "      <td>2023-06-26 05:55:00+04:00</td>\n",
       "      <td>23.18189811706543°C</td>\n",
       "      <td>30.231903076171875%</td>\n",
       "    </tr>\n",
       "    <tr>\n",
       "      <th>1</th>\n",
       "      <td>2023-06-26 06:00:00+04:00</td>\n",
       "      <td>23.18189811706543°C</td>\n",
       "      <td>30.231903076171875%</td>\n",
       "    </tr>\n",
       "    <tr>\n",
       "      <th>2</th>\n",
       "      <td>2023-06-26 06:05:00+04:00</td>\n",
       "      <td>23.18189811706543°C</td>\n",
       "      <td>42.7702751159668%</td>\n",
       "    </tr>\n",
       "    <tr>\n",
       "      <th>3</th>\n",
       "      <td>2023-06-26 06:10:00+04:00</td>\n",
       "      <td>23.18189811706543°C</td>\n",
       "      <td>42.7702751159668%</td>\n",
       "    </tr>\n",
       "    <tr>\n",
       "      <th>4</th>\n",
       "      <td>2023-06-26 06:15:00+04:00</td>\n",
       "      <td>23.18189811706543°C</td>\n",
       "      <td>42.7702751159668%</td>\n",
       "    </tr>\n",
       "    <tr>\n",
       "      <th>...</th>\n",
       "      <td>...</td>\n",
       "      <td>...</td>\n",
       "      <td>...</td>\n",
       "    </tr>\n",
       "    <tr>\n",
       "      <th>1580</th>\n",
       "      <td>2023-07-01 17:35:00+04:00</td>\n",
       "      <td>24.814654263583098°C</td>\n",
       "      <td>52.803531646728516%</td>\n",
       "    </tr>\n",
       "    <tr>\n",
       "      <th>1581</th>\n",
       "      <td>2023-07-01 17:40:00+04:00</td>\n",
       "      <td>24.811655622540098°C</td>\n",
       "      <td>52.803531646728516%</td>\n",
       "    </tr>\n",
       "    <tr>\n",
       "      <th>1582</th>\n",
       "      <td>2023-07-01 17:45:00+04:00</td>\n",
       "      <td>24.8086569814971°C</td>\n",
       "      <td>52.803531646728516%</td>\n",
       "    </tr>\n",
       "    <tr>\n",
       "      <th>1583</th>\n",
       "      <td>2023-07-01 17:50:00+04:00</td>\n",
       "      <td>24.8056583404541°C</td>\n",
       "      <td>52.803531646728516%</td>\n",
       "    </tr>\n",
       "    <tr>\n",
       "      <th>1584</th>\n",
       "      <td>2023-07-01 17:55:00+04:00</td>\n",
       "      <td>24.8056583404541°C</td>\n",
       "      <td>52.803531646728516%</td>\n",
       "    </tr>\n",
       "  </tbody>\n",
       "</table>\n",
       "<p>1585 rows × 3 columns</p>\n",
       "</div>"
      ],
      "text/plain": [
       "                     Timestamp                   val  \\\n",
       "0    2023-06-26 05:55:00+04:00   23.18189811706543°C   \n",
       "1    2023-06-26 06:00:00+04:00   23.18189811706543°C   \n",
       "2    2023-06-26 06:05:00+04:00   23.18189811706543°C   \n",
       "3    2023-06-26 06:10:00+04:00   23.18189811706543°C   \n",
       "4    2023-06-26 06:15:00+04:00   23.18189811706543°C   \n",
       "...                        ...                   ...   \n",
       "1580 2023-07-01 17:35:00+04:00  24.814654263583098°C   \n",
       "1581 2023-07-01 17:40:00+04:00  24.811655622540098°C   \n",
       "1582 2023-07-01 17:45:00+04:00    24.8086569814971°C   \n",
       "1583 2023-07-01 17:50:00+04:00    24.8056583404541°C   \n",
       "1584 2023-07-01 17:55:00+04:00    24.8056583404541°C   \n",
       "\n",
       "     discharge_Chilled_Water_Cool_Valve_Cmd_AHU_01_B1_Copy  \n",
       "0                                   30.231903076171875%     \n",
       "1                                   30.231903076171875%     \n",
       "2                                     42.7702751159668%     \n",
       "3                                     42.7702751159668%     \n",
       "4                                     42.7702751159668%     \n",
       "...                                                 ...     \n",
       "1580                                52.803531646728516%     \n",
       "1581                                52.803531646728516%     \n",
       "1582                                52.803531646728516%     \n",
       "1583                                52.803531646728516%     \n",
       "1584                                52.803531646728516%     \n",
       "\n",
       "[1585 rows x 3 columns]"
      ]
     },
     "execution_count": 10,
     "metadata": {},
     "output_type": "execute_result"
    }
   ],
   "source": [
    "pythonDF['his'].iloc[0]"
   ]
  },
  {
   "cell_type": "code",
   "execution_count": 17,
   "metadata": {},
   "outputs": [
    {
     "ename": "AttributeError",
     "evalue": "'float' object has no attribute 'columns'",
     "output_type": "error",
     "traceback": [
      "\u001b[1;31m---------------------------------------------------------------------------\u001b[0m",
      "\u001b[1;31mAttributeError\u001b[0m                            Traceback (most recent call last)",
      "Cell \u001b[1;32mIn[17], line 3\u001b[0m\n\u001b[0;32m      1\u001b[0m \u001b[38;5;66;03m###\u001b[39;00m\n\u001b[0;32m      2\u001b[0m \u001b[38;5;28;01mfor\u001b[39;00m i \u001b[38;5;129;01min\u001b[39;00m \u001b[38;5;28mrange\u001b[39m(\u001b[38;5;28mlen\u001b[39m(pythonDF[\u001b[38;5;124m'\u001b[39m\u001b[38;5;124mhis\u001b[39m\u001b[38;5;124m'\u001b[39m])):\n\u001b[1;32m----> 3\u001b[0m     \u001b[38;5;28;01mfor\u001b[39;00m col \u001b[38;5;129;01min\u001b[39;00m \u001b[43mpythonDF\u001b[49m\u001b[43m[\u001b[49m\u001b[38;5;124;43m\"\u001b[39;49m\u001b[38;5;124;43mhis\u001b[39;49m\u001b[38;5;124;43m\"\u001b[39;49m\u001b[43m]\u001b[49m\u001b[38;5;241;43m.\u001b[39;49m\u001b[43miloc\u001b[49m\u001b[43m[\u001b[49m\u001b[43mi\u001b[49m\u001b[43m]\u001b[49m\u001b[38;5;241;43m.\u001b[39;49m\u001b[43mcolumns\u001b[49m[\u001b[38;5;241m1\u001b[39m:]:\n\u001b[0;32m      4\u001b[0m         pythonDF[\u001b[38;5;124m\"\u001b[39m\u001b[38;5;124mhis\u001b[39m\u001b[38;5;124m\"\u001b[39m]\u001b[38;5;241m.\u001b[39miloc[i][col] \u001b[38;5;241m=\u001b[39m pythonDF[\u001b[38;5;124m\"\u001b[39m\u001b[38;5;124mhis\u001b[39m\u001b[38;5;124m\"\u001b[39m]\u001b[38;5;241m.\u001b[39miloc[i][col]\u001b[38;5;241m.\u001b[39mastype(\u001b[38;5;28mstr\u001b[39m)\u001b[38;5;241m.\u001b[39mstr\u001b[38;5;241m.\u001b[39mreplace(\u001b[38;5;124mr\u001b[39m\u001b[38;5;124m'\u001b[39m\u001b[38;5;124m[^\u001b[39m\u001b[38;5;124m\\\u001b[39m\u001b[38;5;124md.]\u001b[39m\u001b[38;5;124m'\u001b[39m, \u001b[38;5;124m'\u001b[39m\u001b[38;5;124m'\u001b[39m, regex\u001b[38;5;241m=\u001b[39m\u001b[38;5;28;01mTrue\u001b[39;00m)   \u001b[38;5;66;03m## \\d => all digits   ///  .  => dots    /////  [^  ]  => keep charachters that are mentioned in the brackets\u001b[39;00m\n\u001b[0;32m      5\u001b[0m         pythonDF[\u001b[38;5;124m\"\u001b[39m\u001b[38;5;124mhis\u001b[39m\u001b[38;5;124m\"\u001b[39m]\u001b[38;5;241m.\u001b[39miloc[i][col] \u001b[38;5;241m=\u001b[39m pythonDF[\u001b[38;5;124m\"\u001b[39m\u001b[38;5;124mhis\u001b[39m\u001b[38;5;124m\"\u001b[39m]\u001b[38;5;241m.\u001b[39miloc[i][col]\u001b[38;5;241m.\u001b[39mreplace(\u001b[38;5;124m'\u001b[39m\u001b[38;5;124m'\u001b[39m, \u001b[38;5;124m'\u001b[39m\u001b[38;5;124mNaN\u001b[39m\u001b[38;5;124m'\u001b[39m)\u001b[38;5;241m.\u001b[39mastype(\u001b[38;5;28mfloat\u001b[39m)\n",
      "\u001b[1;31mAttributeError\u001b[0m: 'float' object has no attribute 'columns'"
     ]
    }
   ],
   "source": [
    "\n",
    "###\n",
    "for i in range(len(pythonDF['his'])):\n",
    "    for col in pythonDF[\"his\"].iloc[i].columns[1:]:\n",
    "        pythonDF[\"his\"].iloc[i][col] = pythonDF[\"his\"].iloc[i][col].astype(str).str.replace(r'[^\\d.]', '', regex=True)   ## \\d => all digits   ///  .  => dots    /////  [^  ]  => keep charachters that are mentioned in the brackets\n",
    "        pythonDF[\"his\"].iloc[i][col] = pythonDF[\"his\"].iloc[i][col].replace('', 'NaN').astype(float)"
   ]
  },
  {
   "cell_type": "code",
   "execution_count": null,
   "metadata": {},
   "outputs": [
    {
     "ename": "NameError",
     "evalue": "name 'pythonDF' is not defined",
     "output_type": "error",
     "traceback": [
      "\u001b[1;31m---------------------------------------------------------------------------\u001b[0m",
      "\u001b[1;31mNameError\u001b[0m                                 Traceback (most recent call last)",
      "Cell \u001b[1;32mIn[1], line 1\u001b[0m\n\u001b[1;32m----> 1\u001b[0m \u001b[43mpythonDF\u001b[49m[\u001b[38;5;124m\"\u001b[39m\u001b[38;5;124mhis\u001b[39m\u001b[38;5;124m\"\u001b[39m]\u001b[38;5;241m.\u001b[39miloc[\u001b[38;5;241m1\u001b[39m]\n",
      "\u001b[1;31mNameError\u001b[0m: name 'pythonDF' is not defined"
     ]
    }
   ],
   "source": [
    "pythonDF[\"his\"].iloc[1]#.dtypes"
   ]
  }
 ],
 "metadata": {
  "kernelspec": {
   "display_name": "env_full",
   "language": "python",
   "name": "python3"
  },
  "language_info": {
   "codemirror_mode": {
    "name": "ipython",
    "version": 3
   },
   "file_extension": ".py",
   "mimetype": "text/x-python",
   "name": "python",
   "nbconvert_exporter": "python",
   "pygments_lexer": "ipython3",
   "version": "3.9.17"
  }
 },
 "nbformat": 4,
 "nbformat_minor": 2
}
