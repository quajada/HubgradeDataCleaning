{
 "cells": [
  {
   "cell_type": "code",
   "execution_count": 32,
   "metadata": {},
   "outputs": [],
   "source": [
    "import pandas as pd\n"
   ]
  },
  {
   "cell_type": "code",
   "execution_count": 33,
   "metadata": {},
   "outputs": [],
   "source": [
    "path=\"dummy_data\""
   ]
  },
  {
   "cell_type": "code",
   "execution_count": 34,
   "metadata": {},
   "outputs": [],
   "source": [
    "df = pd.read_csv(path+\"/masterTable1_.csv\")\n",
    "df_data1 = pd.read_csv(path+\"/masterTable1_data_1.csv\", index_col=[0], date_format=\"%Y-%m-%dT%H:%M:%S%z Dubai\").reset_index()  \n",
    "df_data2 = pd.read_csv(path+\"/masterTable1_data_2.csv\", index_col=[0], date_format=\"%Y-%m-%dT%H:%M:%S%z Dubai\").reset_index()\n",
    "df_data = pd.DataFrame({\"data\":[df_data1, df_data2] })  \n",
    "df.loc[:, \"data\"] = df_data\n"
   ]
  },
  {
   "cell_type": "code",
   "execution_count": 35,
   "metadata": {},
   "outputs": [],
   "source": [
    "\n",
    "pythonDF = pd.DataFrame()\n",
    "# loop over the ssData and extract the data from each row\n",
    "for i in range(len(df)):\n",
    "    pythonDF.loc[i, 'pointID'] = df['id'].iloc[i]\n",
    "    pythonDF.loc[i, 'unit'] = df[\"unit\"].iloc[i]\n",
    "    pythonDF.loc[i, 'dqType'] = df[\"dqType\"].iloc[i]\n",
    "    pythonDF.loc[i, 'dqStart'] = pd.to_datetime(df['ts'].iloc[i], format=\"%Y-%m-%dT%H:%M:%S%z Dubai\")\n",
    "    pythonDF.loc[i, 'dqDuration'] = pd.Timedelta(df['dur'].iloc[i])\n",
    "    pythonDF.loc[i, 'pointInterval'] =  pd.Timedelta(df[\"freq\"].iloc[i])\n",
    "    pythonDF.loc[i, 'features'] =  df['featId'].iloc[i]\n",
    "\n",
    "pythonDF.loc[:, 'his'] =  df['data']\n",
    "\n",
    "###\n",
    "for i in range(len(pythonDF['his'])):\n",
    "    for col in pythonDF[\"his\"].iloc[i].columns[1:]:\n",
    "        pythonDF[\"his\"].iloc[i][col] = pythonDF[\"his\"].iloc[i][col].astype(str).str.replace(r'[^\\d.]', '', regex=True)   ## \\d => all digits   ///  .  => dots    /////  [^  ]  => keep charachters that are mentioned in the brackets\n",
    "        pythonDF[\"his\"].iloc[i][col] = pythonDF[\"his\"].iloc[i][col].replace('', 'NaN').astype(float)"
   ]
  },
  {
   "cell_type": "code",
   "execution_count": 36,
   "metadata": {},
   "outputs": [
    {
     "data": {
      "text/plain": [
       "ts                                                                    datetime64[ns, UTC+04:00]\n",
       "DMC Building 1 Data Quality Tests Dup of AHU_04_B1 Return Air Temp                      float64\n",
       "DMC Building 1 Data Quality Tests New-Point                                             float64\n",
       "dtype: object"
      ]
     },
     "execution_count": 36,
     "metadata": {},
     "output_type": "execute_result"
    }
   ],
   "source": [
    "pythonDF[\"his\"].iloc[1].dtypes"
   ]
  }
 ],
 "metadata": {
  "kernelspec": {
   "display_name": "env_full",
   "language": "python",
   "name": "python3"
  },
  "language_info": {
   "codemirror_mode": {
    "name": "ipython",
    "version": 3
   },
   "file_extension": ".py",
   "mimetype": "text/x-python",
   "name": "python",
   "nbconvert_exporter": "python",
   "pygments_lexer": "ipython3",
   "version": "3.9.17"
  }
 },
 "nbformat": 4,
 "nbformat_minor": 2
}
