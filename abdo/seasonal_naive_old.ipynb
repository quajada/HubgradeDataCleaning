{
 "cells": [
  {
   "cell_type": "code",
   "execution_count": null,
   "metadata": {},
   "outputs": [],
   "source": [
    "def seasonal_naive(df, length_of_missing_data, data_logging_interval):\n",
    "    \"\"\"\n",
    "    Inputs\n",
    "    df: df used for training set (from SS)\n",
    "    length_of_missing_data: interval length of missing data (from SS)\n",
    "    data_logging_interval: data logging interval - called from the hisDQInterval tag on the point (from SS)\n",
    "\n",
    "    Output\n",
    "    forecasts_df: dataframe with predictions for the period missing data. Index names as ts, values column named as \"v0\n",
    "    \"\"\"\n",
    "    \n",
    "    # step 1 convert the grid to a dataframe, and set first column as index\n",
    "    #df = df.to_dataframe()\n",
    "    #df.set_index(df.columns[0], inplace=True, drop=True)\n",
    "\n",
    "    # rename the first column as \"target\"\n",
    "    new_column_name = \"target\"\n",
    "    df = df.rename(columns={df.columns[0]: new_column_name})\n",
    "\n",
    "    # number of predictions\n",
    "    horizon = int(length_of_missing_data/data_logging_interval) - 1 # why -1? because if you do length_of_missing_data/data_logging_interval you will get prediction length that is exclusive of the start ts (start ts is the last ts with actual data before the gap), and inclusive of the end ts (end ts is the first ts with actual data after the gap). -1 to get predictions only for the period with no data\n",
    "    \n",
    "    # season length\n",
    "    season_length = int(pd.Timedelta(24, 'h') / data_logging_interval)      \n",
    "\n",
    "    # frequency\n",
    "    #freq = str(data_logging_interval.total_seconds()/3600)+\"h\"\n",
    "\n",
    "    # The Model\n",
    "    model = SeasonalNaive(season_length=season_length)\n",
    "        \n",
    "    # Model fitting\n",
    "    model = model.fit(y=df[\"target\"])\n",
    "    \n",
    "    # Predictions\n",
    "    forecasts_df = model.predict(h=horizon)\n",
    "    forecasts_df = pd.DataFrame(forecasts_df)\n",
    "\n",
    "    forecasts_df = forecasts_df.rename(columns={forecasts_df.columns[0]: \"predictions\"})\n",
    "\n",
    "    return forecasts_df#.reset_index()"
   ]
  }
 ],
 "metadata": {
  "language_info": {
   "name": "python"
  }
 },
 "nbformat": 4,
 "nbformat_minor": 2
}
