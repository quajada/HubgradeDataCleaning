{
 "cells": [
  {
   "cell_type": "code",
   "execution_count": 1,
   "id": "843c48de-6718-4d76-81e1-912865e290f4",
   "metadata": {},
   "outputs": [],
   "source": [
    "import pandas as pd\n",
    "from prophet import Prophet\n",
    "from sklearn.metrics import mean_squared_error\n",
    "import numpy as np\n",
    "from data_extraction.dummy_data_extractor import extract_dummy_data\n",
    "from statsforecast import StatsForecast"
   ]
  },
  {
   "cell_type": "code",
   "execution_count": 2,
   "id": "0301941b-054f-4e3e-a432-cb5935f650e9",
   "metadata": {},
   "outputs": [
    {
     "name": "stderr",
     "output_type": "stream",
     "text": [
      "C:\\Users\\syounas\\OneDrive - Enova Facilities Management\\Tasks\\GitHub\\HubgradeDataCleaning\\Sana\\data_extraction\\dummy_data_extractor.py:16: FutureWarning: Setting an item of incompatible dtype is deprecated and will raise in a future error of pandas. Value '2023-03-12 01:05:00+04:00' has dtype incompatible with datetime64[ns], please explicitly cast to a compatible dtype first.\n",
      "  pythonDF.loc[i, 'dqStart'] = pd.to_datetime(df['ts'].iloc[i], format=\"%Y-%m-%dT%H:%M:%S%z Dubai\")\n"
     ]
    }
   ],
   "source": [
    "master_table = extract_dummy_data(\"dummy_data\")\n",
    "\n",
    "row = master_table.iloc[1]\n",
    "df = row[\"his\"]\n",
    "df.set_index(df.columns[0], inplace=True, drop=True)\n",
    "length_of_missing_data = row[\"dqDuration\"]\n",
    "data_logging_interval = row[\"pointInterval\"]\n",
    "dqStart\t= row['dqStart']\n",
    "dqDuration = row['dqDuration']"
   ]
  },
  {
   "cell_type": "code",
   "execution_count": 14,
   "id": "9ccb9653-91e9-44d8-ac61-3898144d7847",
   "metadata": {},
   "outputs": [],
   "source": [
    "import pandas as pd\n",
    "from prophet import Prophet\n",
    "from sklearn.metrics import mean_squared_error\n",
    "import numpy as np\n",
    "from data_extraction.dummy_data_extractor import extract_dummy_data\n",
    "from statsforecast import StatsForecast\n",
    "\n",
    "master_table = extract_dummy_data(\"dummy_data\")\n",
    "\n",
    "row = master_table.iloc[1]\n",
    "df = row[\"his\"]\n",
    "df.set_index(df.columns[0], inplace=True, drop=True)\n",
    "length_of_missing_data = row[\"dqDuration\"]\n",
    "data_logging_interval = row[\"pointInterval\"]\n",
    "dqStart\t= row['dqStart']\n",
    "dqDuration = row['dqDuration']\n",
    "\n",
    "\n",
    "def fProphet(df, length_of_missing_data, data_logging_interval, dqStart):\n",
    "    \"\"\"\n",
    "    Inputs\n",
    "    df: df used for training set (from SS)\n",
    "    length_of_missing_data: interval length of missing data (from SS)\n",
    "    data_logging_interval: data logging interval - called from the hisDQInterval tag on the point (from SS)\n",
    "\n",
    "    Output\n",
    "    forecasts_df: dataframe with predictions for the period missing data. Index names as ts, values column named as \"v0\"\n",
    "    \"\"\"\n",
    "\n",
    "    # Rename the first column as \"target\"\n",
    "    new_column_name = \"target\"\n",
    "    df = df.rename(columns={df.columns[0]: new_column_name})\n",
    "\n",
    "    # Keep only the history BEFORE the start of the data quality issue, since this is a statistical model not ML model\n",
    "    df = df[df.index < dqStart]\n",
    "\n",
    "    # Format the df to Prophet format\n",
    "    df = df.reset_index()\n",
    "    df = df.rename(columns={df.columns[0]: 'ds', df.columns[1]: \"y\"})\n",
    "\n",
    "    # Number of predictions\n",
    "    horizon = int(length_of_missing_data / data_logging_interval) + 1\n",
    "\n",
    "    # Frequency (Prophet will infer this from the data, but can be specified)\n",
    "    freq = f'{data_logging_interval.total_seconds() / 3600}H'\n",
    "\n",
    "    # Initialize and fit the Prophet model\n",
    "    model = Prophet()\n",
    "    model.fit(df)\n",
    "\n",
    "    # Make a dataframe to hold predictions\n",
    "    future = model.make_future_dataframe(periods=horizon, freq=freq)\n",
    "\n",
    "    # Make predictions\n",
    "    forecast = model.predict(future)\n",
    "\n",
    "    # Filter out the predictions corresponding to the missing data period\n",
    "    forecasts_df = forecast[['ds', 'yhat']].tail(horizon)\n",
    "    forecasts_df = forecasts_df.rename(columns={\"ds\": \"timestamp\", \"yhat\": \"dynamicOptimizedTheta\"})\n",
    "    forecasts_df.set_index(\"timestamp\", inplace=True)\n",
    "\n",
    "    return forecasts_df"
   ]
  },
  {
   "cell_type": "code",
   "execution_count": 20,
   "id": "b1474362-1111-4a83-a7ed-c4edf63c609c",
   "metadata": {},
   "outputs": [
    {
     "data": {
      "text/plain": [
       "1"
      ]
     },
     "execution_count": 20,
     "metadata": {},
     "output_type": "execute_result"
    }
   ],
   "source": [
    "len(df.columns)"
   ]
  },
  {
   "cell_type": "code",
   "execution_count": null,
   "id": "5ad15ea5-828c-4ea4-99c2-732fb5a32ee9",
   "metadata": {},
   "outputs": [],
   "source": []
  }
 ],
 "metadata": {
  "kernelspec": {
   "display_name": "Python 3 (ipykernel)",
   "language": "python",
   "name": "python3"
  },
  "language_info": {
   "codemirror_mode": {
    "name": "ipython",
    "version": 3
   },
   "file_extension": ".py",
   "mimetype": "text/x-python",
   "name": "python",
   "nbconvert_exporter": "python",
   "pygments_lexer": "ipython3",
   "version": "3.11.7"
  }
 },
 "nbformat": 4,
 "nbformat_minor": 5
}
