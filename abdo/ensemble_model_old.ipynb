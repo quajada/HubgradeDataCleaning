{
 "cells": [
  {
   "cell_type": "code",
   "execution_count": null,
   "metadata": {},
   "outputs": [],
   "source": [
    "def ensemble_model(pythonData):\n",
    "    \"\"\"\n",
    "    Function to run all models, and return the one with lowest RMSE.\n",
    "    \n",
    "    \"\"\"\n",
    "\n",
    "    # dictionary to save predictions for each point\n",
    "    scores_df_dict = {\n",
    "    \"pointID\": [],\n",
    "    \"predictions\": [],\n",
    "    \"rmse\": [],\n",
    "    \"modelName\": []\n",
    "    }\n",
    "\n",
    "    # Create a DataFrame from the dictionary\n",
    "    scores_df = pd.DataFrame(scores_df_dict)\n",
    "\n",
    "    for i, row in pythonData.iterrows():\n",
    "        pointID = row[\"pointID\"]\n",
    "        df = row[\"his\"].to_dataframe()\n",
    "        df.set_index(df.columns[0], inplace=True, drop=True)\n",
    "        length_of_missing_data = row[\"dqDuration\"]\n",
    "        data_logging_interval = row[\"pointInterval\"]\n",
    "\n",
    "        # number of predictions\n",
    "        horizon = int(length_of_missing_data/data_logging_interval)\n",
    "\n",
    "        # training set size (relative to the horizon/prediction size)\n",
    "        training_set_size = horizon * 10\n",
    "        #training_set_size = int(228)                                         ################## REMOVE THIS\n",
    "        \n",
    "        # training / testing set to evaluate the model (relative to horizon of prediction)\n",
    "        train_data = df.iloc[-1*int(training_set_size):]#.reset_index(drop=True)\n",
    "        test_data = df.iloc[:-1*int(training_set_size)]#.reset_index(drop=True)\n",
    "\n",
    "\n",
    "        seasonal_naive_predictions = seasonal_naive(train_data, length_of_missing_data, data_logging_interval)\n",
    "        model_name = \"Seasonal Naive\"\n",
    "        \n",
    "        rmse_score = mean_squared_error(test_data[test_data.columns[0]].to_numpy(), seasonalNaivePredictions[seasonalNaivePredictions.columns[0]].to_numpy(), squared=False)\n",
    "\n",
    "        # append data to the scored DF\n",
    "        row_to_append = {'pointID': pointID, 'predictions': seasonal_naive_predictions, \"rmse\": \"\", \"modelName\": model_name}\n",
    "        scores_df = pd.concat([scores_df, pd.DataFrame([row_to_append])], ignore_index=True)\n",
    "\n",
    "        \n",
    "    return scores_df"
   ]
  }
 ],
 "metadata": {
  "language_info": {
   "name": "python"
  }
 },
 "nbformat": 4,
 "nbformat_minor": 2
}
