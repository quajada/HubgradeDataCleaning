{
 "cells": [
  {
   "cell_type": "code",
   "execution_count": 39,
   "metadata": {},
   "outputs": [],
   "source": [
    "# Import libraries\n",
    "import pandas as pd\n",
    "import numpy as np\n",
    "import matplotlib.pyplot as plt\n",
    "import seaborn as sns\n",
    "from sklearn.model_selection import train_test_split\n",
    "from sklearn.model_selection import TimeSeriesSplit\n",
    "from sklearn.preprocessing import PolynomialFeatures\n",
    "from sklearn.linear_model import LinearRegression\n",
    "from sklearn.metrics import mean_squared_error, r2_score\n",
    "from data_extraction.dummy_data_extractor import extract_dummy_data"
   ]
  },
  {
   "cell_type": "code",
   "execution_count": 40,
   "metadata": {},
   "outputs": [
    {
     "name": "stderr",
     "output_type": "stream",
     "text": [
      "c:\\Users\\carabbat\\OneDrive - Enova Facilities Management\\Documents\\Hubgrade\\Skyspark\\Data Imputation\\HubgradeDataCleaning\\catherine\\data_extraction\\dummy_data_extractor.py:16: FutureWarning: Setting an item of incompatible dtype is deprecated and will raise in a future error of pandas. Value '2023-03-12 01:05:00+04:00' has dtype incompatible with datetime64[ns], please explicitly cast to a compatible dtype first.\n",
      "  pythonDF.loc[i, 'dqStart'] = pd.to_datetime(df['ts'].iloc[i], format=\"%Y-%m-%dT%H:%M:%S%z Dubai\")\n"
     ]
    },
    {
     "data": {
      "text/html": [
       "<div>\n",
       "<style scoped>\n",
       "    .dataframe tbody tr th:only-of-type {\n",
       "        vertical-align: middle;\n",
       "    }\n",
       "\n",
       "    .dataframe tbody tr th {\n",
       "        vertical-align: top;\n",
       "    }\n",
       "\n",
       "    .dataframe thead th {\n",
       "        text-align: right;\n",
       "    }\n",
       "</style>\n",
       "<table border=\"1\" class=\"dataframe\">\n",
       "  <thead>\n",
       "    <tr style=\"text-align: right;\">\n",
       "      <th></th>\n",
       "      <th>pointID</th>\n",
       "      <th>unit</th>\n",
       "      <th>dqType</th>\n",
       "      <th>dqStart</th>\n",
       "      <th>dqDuration</th>\n",
       "      <th>pointInterval</th>\n",
       "      <th>features</th>\n",
       "      <th>his</th>\n",
       "    </tr>\n",
       "  </thead>\n",
       "  <tbody>\n",
       "    <tr>\n",
       "      <th>0</th>\n",
       "      <td>@p:dmc_All:r:2ddf07d5-ef59ca94 DMC Building 1 ...</td>\n",
       "      <td>°C</td>\n",
       "      <td>Nulls</td>\n",
       "      <td>2023-03-12 01:05:00+04:00</td>\n",
       "      <td>1 days 11:10:00</td>\n",
       "      <td>0 days 00:05:00</td>\n",
       "      <td>[p:dmc_All:r:2de337c0-72b69972]</td>\n",
       "      <td>DMC Building 1 Data...</td>\n",
       "    </tr>\n",
       "    <tr>\n",
       "      <th>1</th>\n",
       "      <td>@p:dmc_All:r:2ddf07d5-ef59ca94 DMC Building 1 ...</td>\n",
       "      <td>°C</td>\n",
       "      <td>Nulls</td>\n",
       "      <td>2023-03-19 01:10:00+04:00</td>\n",
       "      <td>0 days 23:30:00</td>\n",
       "      <td>0 days 00:05:00</td>\n",
       "      <td>[p:dmc_All:r:2de337c0-72b69972]</td>\n",
       "      <td>ts  \\\n",
       "0    2023-03...</td>\n",
       "    </tr>\n",
       "  </tbody>\n",
       "</table>\n",
       "</div>"
      ],
      "text/plain": [
       "                                             pointID unit dqType  \\\n",
       "0  @p:dmc_All:r:2ddf07d5-ef59ca94 DMC Building 1 ...   °C  Nulls   \n",
       "1  @p:dmc_All:r:2ddf07d5-ef59ca94 DMC Building 1 ...   °C  Nulls   \n",
       "\n",
       "                     dqStart      dqDuration   pointInterval  \\\n",
       "0  2023-03-12 01:05:00+04:00 1 days 11:10:00 0 days 00:05:00   \n",
       "1  2023-03-19 01:10:00+04:00 0 days 23:30:00 0 days 00:05:00   \n",
       "\n",
       "                          features  \\\n",
       "0  [p:dmc_All:r:2de337c0-72b69972]   \n",
       "1  [p:dmc_All:r:2de337c0-72b69972]   \n",
       "\n",
       "                                                 his  \n",
       "0                             DMC Building 1 Data...  \n",
       "1                              ts  \\\n",
       "0    2023-03...  "
      ]
     },
     "execution_count": 40,
     "metadata": {},
     "output_type": "execute_result"
    }
   ],
   "source": [
    "master_table = extract_dummy_data(\"dummy_data\")\n",
    "#dqStart = master_table.at[0,\"dqStart\"]\n",
    "dqStart = '2023-03-10 01:05:00+0400'\n",
    "df = master_table.at[0,\"his\"]\n",
    "df.set_index(df.columns[0], inplace=True, drop=True)\n",
    "#df = df.dropna()\n",
    "# Drop rows where df[df.columns[1]] is missing or both are missing\n",
    "df = df.dropna(subset=[df.columns[1]])\n",
    "df = df[~(df[df.columns[0]].isna() & df[df.columns[1]].isna())]\n",
    "master_table"
   ]
  },
  {
   "cell_type": "code",
   "execution_count": 41,
   "metadata": {},
   "outputs": [],
   "source": [
    "# Splitting variables\n",
    "y = df[df.columns[0]]  # independent variable\n",
    "X = df[[df.columns[1]]]  # dependent variable\n",
    "\n",
    "# Drop rows where X is missing or both X and y are missing\n",
    "#df = df.dropna(subset=[X.columns[0]], how='all')\n",
    "\n",
    "# Splitting variables\n",
    "#y = df[df.columns[0]]  # independent variable\n",
    "#X = df[[df.columns[1]]]  # dependent variable"
   ]
  },
  {
   "cell_type": "code",
   "execution_count": 42,
   "metadata": {},
   "outputs": [],
   "source": [
    "# Filter data for training and testing\n",
    "X_train = X[X.index < dqStart]\n",
    "X_test = X[X.index >= dqStart]\n",
    "y_train = y[X.index < dqStart]\n",
    "y_test = y[X.index >= dqStart]"
   ]
  },
  {
   "cell_type": "code",
   "execution_count": 43,
   "metadata": {},
   "outputs": [
    {
     "data": {
      "text/html": [
       "<style>#sk-container-id-4 {color: black;background-color: white;}#sk-container-id-4 pre{padding: 0;}#sk-container-id-4 div.sk-toggleable {background-color: white;}#sk-container-id-4 label.sk-toggleable__label {cursor: pointer;display: block;width: 100%;margin-bottom: 0;padding: 0.3em;box-sizing: border-box;text-align: center;}#sk-container-id-4 label.sk-toggleable__label-arrow:before {content: \"▸\";float: left;margin-right: 0.25em;color: #696969;}#sk-container-id-4 label.sk-toggleable__label-arrow:hover:before {color: black;}#sk-container-id-4 div.sk-estimator:hover label.sk-toggleable__label-arrow:before {color: black;}#sk-container-id-4 div.sk-toggleable__content {max-height: 0;max-width: 0;overflow: hidden;text-align: left;background-color: #f0f8ff;}#sk-container-id-4 div.sk-toggleable__content pre {margin: 0.2em;color: black;border-radius: 0.25em;background-color: #f0f8ff;}#sk-container-id-4 input.sk-toggleable__control:checked~div.sk-toggleable__content {max-height: 200px;max-width: 100%;overflow: auto;}#sk-container-id-4 input.sk-toggleable__control:checked~label.sk-toggleable__label-arrow:before {content: \"▾\";}#sk-container-id-4 div.sk-estimator input.sk-toggleable__control:checked~label.sk-toggleable__label {background-color: #d4ebff;}#sk-container-id-4 div.sk-label input.sk-toggleable__control:checked~label.sk-toggleable__label {background-color: #d4ebff;}#sk-container-id-4 input.sk-hidden--visually {border: 0;clip: rect(1px 1px 1px 1px);clip: rect(1px, 1px, 1px, 1px);height: 1px;margin: -1px;overflow: hidden;padding: 0;position: absolute;width: 1px;}#sk-container-id-4 div.sk-estimator {font-family: monospace;background-color: #f0f8ff;border: 1px dotted black;border-radius: 0.25em;box-sizing: border-box;margin-bottom: 0.5em;}#sk-container-id-4 div.sk-estimator:hover {background-color: #d4ebff;}#sk-container-id-4 div.sk-parallel-item::after {content: \"\";width: 100%;border-bottom: 1px solid gray;flex-grow: 1;}#sk-container-id-4 div.sk-label:hover label.sk-toggleable__label {background-color: #d4ebff;}#sk-container-id-4 div.sk-serial::before {content: \"\";position: absolute;border-left: 1px solid gray;box-sizing: border-box;top: 0;bottom: 0;left: 50%;z-index: 0;}#sk-container-id-4 div.sk-serial {display: flex;flex-direction: column;align-items: center;background-color: white;padding-right: 0.2em;padding-left: 0.2em;position: relative;}#sk-container-id-4 div.sk-item {position: relative;z-index: 1;}#sk-container-id-4 div.sk-parallel {display: flex;align-items: stretch;justify-content: center;background-color: white;position: relative;}#sk-container-id-4 div.sk-item::before, #sk-container-id-4 div.sk-parallel-item::before {content: \"\";position: absolute;border-left: 1px solid gray;box-sizing: border-box;top: 0;bottom: 0;left: 50%;z-index: -1;}#sk-container-id-4 div.sk-parallel-item {display: flex;flex-direction: column;z-index: 1;position: relative;background-color: white;}#sk-container-id-4 div.sk-parallel-item:first-child::after {align-self: flex-end;width: 50%;}#sk-container-id-4 div.sk-parallel-item:last-child::after {align-self: flex-start;width: 50%;}#sk-container-id-4 div.sk-parallel-item:only-child::after {width: 0;}#sk-container-id-4 div.sk-dashed-wrapped {border: 1px dashed gray;margin: 0 0.4em 0.5em 0.4em;box-sizing: border-box;padding-bottom: 0.4em;background-color: white;}#sk-container-id-4 div.sk-label label {font-family: monospace;font-weight: bold;display: inline-block;line-height: 1.2em;}#sk-container-id-4 div.sk-label-container {text-align: center;}#sk-container-id-4 div.sk-container {/* jupyter's `normalize.less` sets `[hidden] { display: none; }` but bootstrap.min.css set `[hidden] { display: none !important; }` so we also need the `!important` here to be able to override the default hidden behavior on the sphinx rendered scikit-learn.org. See: https://github.com/scikit-learn/scikit-learn/issues/21755 */display: inline-block !important;position: relative;}#sk-container-id-4 div.sk-text-repr-fallback {display: none;}</style><div id=\"sk-container-id-4\" class=\"sk-top-container\"><div class=\"sk-text-repr-fallback\"><pre>LinearRegression()</pre><b>In a Jupyter environment, please rerun this cell to show the HTML representation or trust the notebook. <br />On GitHub, the HTML representation is unable to render, please try loading this page with nbviewer.org.</b></div><div class=\"sk-container\" hidden><div class=\"sk-item\"><div class=\"sk-estimator sk-toggleable\"><input class=\"sk-toggleable__control sk-hidden--visually\" id=\"sk-estimator-id-4\" type=\"checkbox\" checked><label for=\"sk-estimator-id-4\" class=\"sk-toggleable__label sk-toggleable__label-arrow\">LinearRegression</label><div class=\"sk-toggleable__content\"><pre>LinearRegression()</pre></div></div></div></div></div>"
      ],
      "text/plain": [
       "LinearRegression()"
      ]
     },
     "execution_count": 43,
     "metadata": {},
     "output_type": "execute_result"
    }
   ],
   "source": [
    "# Generate polynomial features\n",
    "poly = PolynomialFeatures(degree = 4)\n",
    "X_train_poly = poly.fit_transform(X_train)\n",
    "X_test_poly = poly.transform(X_test)\n",
    "\n",
    "# Train polynomial regression model on the whole dataset\n",
    "model = LinearRegression()\n",
    "model.fit(X_train_poly, y_train)"
   ]
  },
  {
   "cell_type": "code",
   "execution_count": 44,
   "metadata": {},
   "outputs": [
    {
     "name": "stdout",
     "output_type": "stream",
     "text": [
      "Mean Squared Error: 1.0805484038852835\n",
      "Root Mean Squared Error: 1.0394943019975067\n",
      "R^2 Score: -38.77341212662329\n"
     ]
    }
   ],
   "source": [
    "y_pred = model.predict(X_test_poly)\n",
    "mse = mean_squared_error(y_test, y_pred)\n",
    "rmse = np.sqrt(mse)\n",
    "r2 = r2_score(y_test, y_pred)\n",
    "print(f\"Mean Squared Error: {mse}\")\n",
    "print(f\"Root Mean Squared Error: {rmse}\")\n",
    "print(f\"R^2 Score: {r2}\")\n"
   ]
  },
  {
   "cell_type": "code",
   "execution_count": 45,
   "metadata": {},
   "outputs": [
    {
     "data": {
      "text/html": [
       "<div>\n",
       "<style scoped>\n",
       "    .dataframe tbody tr th:only-of-type {\n",
       "        vertical-align: middle;\n",
       "    }\n",
       "\n",
       "    .dataframe tbody tr th {\n",
       "        vertical-align: top;\n",
       "    }\n",
       "\n",
       "    .dataframe thead th {\n",
       "        text-align: right;\n",
       "    }\n",
       "</style>\n",
       "<table border=\"1\" class=\"dataframe\">\n",
       "  <thead>\n",
       "    <tr style=\"text-align: right;\">\n",
       "      <th></th>\n",
       "      <th>y_pred</th>\n",
       "    </tr>\n",
       "    <tr>\n",
       "      <th>ts</th>\n",
       "      <th></th>\n",
       "    </tr>\n",
       "  </thead>\n",
       "  <tbody>\n",
       "    <tr>\n",
       "      <th>2023-03-10 01:05:00+04:00</th>\n",
       "      <td>23.166546</td>\n",
       "    </tr>\n",
       "    <tr>\n",
       "      <th>2023-03-10 01:10:00+04:00</th>\n",
       "      <td>23.166546</td>\n",
       "    </tr>\n",
       "    <tr>\n",
       "      <th>2023-03-10 01:15:00+04:00</th>\n",
       "      <td>23.166546</td>\n",
       "    </tr>\n",
       "    <tr>\n",
       "      <th>2023-03-10 01:20:00+04:00</th>\n",
       "      <td>23.166546</td>\n",
       "    </tr>\n",
       "    <tr>\n",
       "      <th>2023-03-10 01:25:00+04:00</th>\n",
       "      <td>23.166546</td>\n",
       "    </tr>\n",
       "    <tr>\n",
       "      <th>...</th>\n",
       "      <td>...</td>\n",
       "    </tr>\n",
       "    <tr>\n",
       "      <th>2023-03-12 00:40:00+04:00</th>\n",
       "      <td>22.934544</td>\n",
       "    </tr>\n",
       "    <tr>\n",
       "      <th>2023-03-12 00:45:00+04:00</th>\n",
       "      <td>23.002886</td>\n",
       "    </tr>\n",
       "    <tr>\n",
       "      <th>2023-03-12 00:50:00+04:00</th>\n",
       "      <td>23.144585</td>\n",
       "    </tr>\n",
       "    <tr>\n",
       "      <th>2023-03-12 00:55:00+04:00</th>\n",
       "      <td>23.022804</td>\n",
       "    </tr>\n",
       "    <tr>\n",
       "      <th>2023-03-12 01:00:00+04:00</th>\n",
       "      <td>23.022804</td>\n",
       "    </tr>\n",
       "  </tbody>\n",
       "</table>\n",
       "<p>576 rows × 1 columns</p>\n",
       "</div>"
      ],
      "text/plain": [
       "                              y_pred\n",
       "ts                                  \n",
       "2023-03-10 01:05:00+04:00  23.166546\n",
       "2023-03-10 01:10:00+04:00  23.166546\n",
       "2023-03-10 01:15:00+04:00  23.166546\n",
       "2023-03-10 01:20:00+04:00  23.166546\n",
       "2023-03-10 01:25:00+04:00  23.166546\n",
       "...                              ...\n",
       "2023-03-12 00:40:00+04:00  22.934544\n",
       "2023-03-12 00:45:00+04:00  23.002886\n",
       "2023-03-12 00:50:00+04:00  23.144585\n",
       "2023-03-12 00:55:00+04:00  23.022804\n",
       "2023-03-12 01:00:00+04:00  23.022804\n",
       "\n",
       "[576 rows x 1 columns]"
      ]
     },
     "execution_count": 45,
     "metadata": {},
     "output_type": "execute_result"
    }
   ],
   "source": [
    "# Create a new DataFrame with the timestamp as index and y_pred as values\n",
    "pred_df = pd.DataFrame(data=y_pred, index=X_test.index, columns=['y_pred'])\n",
    "pred_df\n"
   ]
  },
  {
   "cell_type": "code",
   "execution_count": 46,
   "metadata": {},
   "outputs": [
    {
     "data": {
      "image/png": "[encoded data removed]",
      "text/plain": [
       "<Figure size 1000x600 with 1 Axes>"
      ]
     },
     "metadata": {},
     "output_type": "display_data"
    }
   ],
   "source": [
    "# Plotting y_test and y_pred against timestamps \n",
    "plt.figure(figsize=(10, 6))\n",
    "plt.plot(y_test.index, y_test, label='Actual')\n",
    "plt.plot(y_test.index, y_pred, label='Predicted')\n",
    "plt.xlabel('Timestamp')\n",
    "plt.ylabel('Value')\n",
    "plt.title('Actual vs Predicted')\n",
    "plt.legend()\n",
    "plt.grid(True)\n",
    "plt.tight_layout()\n",
    "plt.show()"
   ]
  }
 ],
 "metadata": {
  "kernelspec": {
   "display_name": "dataCleaning1",
   "language": "python",
   "name": "python3"
  },
  "language_info": {
   "codemirror_mode": {
    "name": "ipython",
    "version": 3
   },
   "file_extension": ".py",
   "mimetype": "text/x-python",
   "name": "python",
   "nbconvert_exporter": "python",
   "pygments_lexer": "ipython3",
   "version": "3.10.9"
  }
 },
 "nbformat": 4,
 "nbformat_minor": 2
}
