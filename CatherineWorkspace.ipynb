{
 "cells": [
  {
   "cell_type": "code",
   "execution_count": 1,
   "metadata": {},
   "outputs": [
    {
     "name": "stderr",
     "output_type": "stream",
     "text": [
      "c:\\Users\\carabbat\\OneDrive - Enova Facilities Management\\Documents\\Hubgrade\\Skyspark\\Data Imputation\\HubgradeDataCleaning\\project\\data_extraction\\dummy_data_extractor.py:16: FutureWarning: Setting an item of incompatible dtype is deprecated and will raise in a future error of pandas. Value '2023-03-12 01:05:00+04:00' has dtype incompatible with datetime64[ns], please explicitly cast to a compatible dtype first.\n",
      "  pythonDF.loc[i, 'dqStart'] = pd.to_datetime(df['ts'].iloc[i], format=\"%Y-%m-%dT%H:%M:%S%z Dubai\")\n"
     ]
    },
    {
     "data": {
      "text/html": [
       "<div>\n",
       "<style scoped>\n",
       "    .dataframe tbody tr th:only-of-type {\n",
       "        vertical-align: middle;\n",
       "    }\n",
       "\n",
       "    .dataframe tbody tr th {\n",
       "        vertical-align: top;\n",
       "    }\n",
       "\n",
       "    .dataframe thead th {\n",
       "        text-align: right;\n",
       "    }\n",
       "</style>\n",
       "<table border=\"1\" class=\"dataframe\">\n",
       "  <thead>\n",
       "    <tr style=\"text-align: right;\">\n",
       "      <th></th>\n",
       "      <th>y_pred</th>\n",
       "    </tr>\n",
       "    <tr>\n",
       "      <th>ts</th>\n",
       "      <th></th>\n",
       "    </tr>\n",
       "  </thead>\n",
       "  <tbody>\n",
       "    <tr>\n",
       "      <th>2023-03-10 01:05:00+04:00</th>\n",
       "      <td>23.166546</td>\n",
       "    </tr>\n",
       "    <tr>\n",
       "      <th>2023-03-10 01:10:00+04:00</th>\n",
       "      <td>23.166546</td>\n",
       "    </tr>\n",
       "    <tr>\n",
       "      <th>2023-03-10 01:15:00+04:00</th>\n",
       "      <td>23.166546</td>\n",
       "    </tr>\n",
       "    <tr>\n",
       "      <th>2023-03-10 01:20:00+04:00</th>\n",
       "      <td>23.166546</td>\n",
       "    </tr>\n",
       "    <tr>\n",
       "      <th>2023-03-10 01:25:00+04:00</th>\n",
       "      <td>23.166546</td>\n",
       "    </tr>\n",
       "    <tr>\n",
       "      <th>...</th>\n",
       "      <td>...</td>\n",
       "    </tr>\n",
       "    <tr>\n",
       "      <th>2023-03-12 00:40:00+04:00</th>\n",
       "      <td>22.934544</td>\n",
       "    </tr>\n",
       "    <tr>\n",
       "      <th>2023-03-12 00:45:00+04:00</th>\n",
       "      <td>23.002886</td>\n",
       "    </tr>\n",
       "    <tr>\n",
       "      <th>2023-03-12 00:50:00+04:00</th>\n",
       "      <td>23.144585</td>\n",
       "    </tr>\n",
       "    <tr>\n",
       "      <th>2023-03-12 00:55:00+04:00</th>\n",
       "      <td>23.022804</td>\n",
       "    </tr>\n",
       "    <tr>\n",
       "      <th>2023-03-12 01:00:00+04:00</th>\n",
       "      <td>23.022804</td>\n",
       "    </tr>\n",
       "  </tbody>\n",
       "</table>\n",
       "<p>576 rows × 1 columns</p>\n",
       "</div>"
      ],
      "text/plain": [
       "                              y_pred\n",
       "ts                                  \n",
       "2023-03-10 01:05:00+04:00  23.166546\n",
       "2023-03-10 01:10:00+04:00  23.166546\n",
       "2023-03-10 01:15:00+04:00  23.166546\n",
       "2023-03-10 01:20:00+04:00  23.166546\n",
       "2023-03-10 01:25:00+04:00  23.166546\n",
       "...                              ...\n",
       "2023-03-12 00:40:00+04:00  22.934544\n",
       "2023-03-12 00:45:00+04:00  23.002886\n",
       "2023-03-12 00:50:00+04:00  23.144585\n",
       "2023-03-12 00:55:00+04:00  23.022804\n",
       "2023-03-12 01:00:00+04:00  23.022804\n",
       "\n",
       "[576 rows x 1 columns]"
      ]
     },
     "execution_count": 1,
     "metadata": {},
     "output_type": "execute_result"
    }
   ],
   "source": [
    "from project.models.polynomialRegression import polynomial_regression\n",
    "from project.data_extraction.dummy_data_extractor import extract_dummy_data\n",
    "master_table = extract_dummy_data(r\"C:\\Users\\carabbat\\OneDrive - Enova Facilities Management\\Documents\\Hubgrade\\Skyspark\\Data Imputation\\HubgradeDataCleaning\\project\\dummy_data\")\n",
    "master_table = master_table.at[0,\"his\"]\n",
    "df = master_table.set_index([\"ts\"])\n",
    "length_of_missing_data = 1\n",
    "data_logging_interval = 1\n",
    "dqStart = '2023-03-10 01:05:00+0400'\n",
    "\n",
    "polynomial_regression(df, length_of_missing_data, data_logging_interval, dqStart)"
   ]
  }
 ],
 "metadata": {
  "kernelspec": {
   "display_name": "ssv1",
   "language": "python",
   "name": "python3"
  },
  "language_info": {
   "codemirror_mode": {
    "name": "ipython",
    "version": 3
   },
   "file_extension": ".py",
   "mimetype": "text/x-python",
   "name": "python",
   "nbconvert_exporter": "python",
   "pygments_lexer": "ipython3",
   "version": "3.10.9"
  }
 },
 "nbformat": 4,
 "nbformat_minor": 2
}
