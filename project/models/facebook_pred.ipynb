{
 "cells": [
  {
   "cell_type": "code",
   "execution_count": 1,
   "metadata": {},
   "outputs": [],
   "source": [
    "import pandas as pd\n",
    "import numpy as np\n",
    "from prophet import Prophet\n",
    "from data_extraction.dummy_data_extractor import extract_dummy_data\n",
    "\n",
    "def facebook_pred(df, length_of_missing_data, data_logging_interval, dqStart):\n",
    "    \n",
    "\n",
    "    # Keep only the first two columns\n",
    "    df = df.iloc[:, :2]\n",
    "\n",
    "    df.set_index(df.columns[0], inplace=True, drop=True)\n",
    "    \n",
    "    df = df[df.index < dqStart]\n",
    "\n",
    "    df.reset_index(inplace=True)\n",
    "\n",
    "    # Rename columns\n",
    "    df.columns = ['ds','y']\n",
    "\n",
    "\n",
    "    df['ds'] = df['ds'].dt.strftime('%Y-%m-%d %H:%M:%S')\n",
    "\n",
    "    # Initialize Prophet model with tuned hyperparameters\n",
    "    model_temp = Prophet(seasonality_mode='additive',  # Adjust based on data exploration\n",
    "                         interval_width=0.95,          # Adjust prediction interval if needed\n",
    "                         changepoint_prior_scale=0.001) # Tune based on data patterns\n",
    "\n",
    "    # Fit the model\n",
    "    model_temp.fit(df)\n",
    "\n",
    "    # Number of predictions\n",
    "    samples = int(length_of_missing_data / data_logging_interval) + 1\n",
    "\n",
    "    # Create future DataFrame\n",
    "    future_temp = model_temp.make_future_dataframe(periods=samples, freq='5T')\n",
    "\n",
    "    # Predict the future values\n",
    "    forecast_temp = model_temp.predict(future_temp)\n",
    "\n",
    "    # Convert dq_start to timezone-naive\n",
    "    dq_start = dqStart.strftime('%Y-%m-%d %H:%M:%S')\n",
    "\n",
    "    \n",
    "    # Filter predictions to start from dq_start\n",
    "    predictions = forecast_temp[forecast_temp['ds'] >= dq_start][['ds', 'yhat']]\n",
    "\n",
    "    # Rename columns\n",
    "    predictions.columns = ['timestamp','facebook']\n",
    "\n",
    "    # Set 'ds' as the index\n",
    "    predictions.set_index('timestamp', inplace=True)\n",
    "\n",
    "    \n",
    "    return predictions"
   ]
  },
  {
   "cell_type": "code",
   "execution_count": 2,
   "metadata": {},
   "outputs": [
    {
     "name": "stderr",
     "output_type": "stream",
     "text": [
      "c:\\Users\\syounas\\OneDrive - Enova Facilities Management\\Tasks\\GitHub\\HubgradeDataCleaning\\project\\models\\data_extraction\\dummy_data_extractor.py:16: FutureWarning: Setting an item of incompatible dtype is deprecated and will raise in a future error of pandas. Value '2023-05-09 23:55:00+04:00' has dtype incompatible with datetime64[ns], please explicitly cast to a compatible dtype first.\n",
      "  pythonDF.loc[i, 'dqStart'] = pd.to_datetime(df['ts'].iloc[i], format=\"%Y-%m-%dT%H:%M:%S%z Dubai\")\n",
      "10:48:04 - cmdstanpy - INFO - Chain [1] start processing\n",
      "10:48:04 - cmdstanpy - INFO - Chain [1] done processing\n"
     ]
    },
    {
     "name": "stdout",
     "output_type": "stream",
     "text": [
      "                      facebook\n",
      "timestamp                     \n",
      "2023-05-09 23:55:00  16.097934\n",
      "2023-05-10 00:00:00  16.105465\n",
      "2023-05-10 00:05:00  16.112155\n",
      "2023-05-10 00:10:00  16.117987\n",
      "2023-05-10 00:15:00  16.122947\n",
      "...                        ...\n",
      "2023-05-11 23:40:00  16.361165\n",
      "2023-05-11 23:45:00  16.370474\n",
      "2023-05-11 23:50:00  16.378992\n",
      "2023-05-11 23:55:00  16.386694\n",
      "2023-05-12 00:00:00  16.393557\n",
      "\n",
      "[578 rows x 1 columns]\n"
     ]
    }
   ],
   "source": [
    "# Example usage:\n",
    "master_table = extract_dummy_data(\"dummy_data\")\n",
    "df = master_table.at[0, \"his\"].iloc[:, :2]\n",
    "\n",
    "# Extract values from the second row of master_table\n",
    "length_of_missing_data = master_table.at[0, \"dqDuration\"]\n",
    "data_logging_interval = master_table.at[0, \"pointInterval\"]\n",
    "dqStart = master_table.at[0, \"dqStart\"]\n",
    "\n",
    "# Call the function\n",
    "predictions = facebook_pred(df, length_of_missing_data, data_logging_interval, dqStart)\n",
    "\n",
    "# Display the resulting dataframe\n",
    "print(predictions)"
   ]
  },
  {
   "cell_type": "code",
   "execution_count": null,
   "metadata": {},
   "outputs": [],
   "source": []
  }
 ],
 "metadata": {
  "kernelspec": {
   "display_name": "base",
   "language": "python",
   "name": "python3"
  },
  "language_info": {
   "codemirror_mode": {
    "name": "ipython",
    "version": 3
   },
   "file_extension": ".py",
   "mimetype": "text/x-python",
   "name": "python",
   "nbconvert_exporter": "python",
   "pygments_lexer": "ipython3",
   "version": "3.11.7"
  }
 },
 "nbformat": 4,
 "nbformat_minor": 2
}
