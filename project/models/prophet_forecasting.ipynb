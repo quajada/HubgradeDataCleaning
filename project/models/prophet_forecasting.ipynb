{
 "cells": [
  {
   "cell_type": "code",
   "execution_count": 88,
   "id": "e2809d4f-d27d-4779-a1f1-8bd1790f2a38",
   "metadata": {},
   "outputs": [
    {
     "name": "stderr",
     "output_type": "stream",
     "text": [
      "C:\\Users\\syounas\\OneDrive - Enova Facilities Management\\Tasks\\GitHub\\HubgradeDataCleaning\\Sana\\data_extraction\\dummy_data_extractor.py:16: FutureWarning: Setting an item of incompatible dtype is deprecated and will raise in a future error of pandas. Value '2023-03-12 01:05:00+04:00' has dtype incompatible with datetime64[ns], please explicitly cast to a compatible dtype first.\n",
      "  pythonDF.loc[i, 'dqStart'] = pd.to_datetime(df['ts'].iloc[i], format=\"%Y-%m-%dT%H:%M:%S%z Dubai\")\n",
      "10:53:47 - cmdstanpy - INFO - Chain [1] start processing\n",
      "10:53:47 - cmdstanpy - INFO - Chain [1] done processing\n"
     ]
    },
    {
     "name": "stdout",
     "output_type": "stream",
     "text": [
      "RMSE for temp: 0.2144309518644897\n"
     ]
    }
   ],
   "source": [
    "import pandas as pd\n",
    "from prophet import Prophet\n",
    "from sklearn.metrics import mean_squared_error\n",
    "import numpy as np\n",
    "from data_extraction.dummy_data_extractor import extract_dummy_data\n",
    "\n",
    "df = extract_dummy_data(\"dummy_data\")\n",
    "df = df.at[1,\"his\"]\n",
    "df.reset_index(inplace=True)\n",
    "df = df.dropna()\n",
    "\n",
    "\n",
    "# Rename columns for convenience\n",
    "data.columns = ['ts', 'temp', 'new_point']\n",
    "\n",
    "# # Convert 'ts' column to datetime and handle timezone offset\n",
    "# data['ts'] = pd.to_datetime(data['ts'].replace(' Dubai', ''), errors='coerce')\n",
    "# Drop rows where datetime parsing failed\n",
    "data = data.dropna(subset=['ts'])\n",
    "\n",
    "# # Clean temperature column and convert to numeric\n",
    "# data['temp'] = data['temp'].str.replace('°C', '').astype(float)\n",
    "\n",
    "# Separate data for temperature\n",
    "df_temp = data[['ts', 'temp']].rename(columns={'ts': 'ds', 'temp': 'y'})\n",
    "\n",
    "# Ensure 'ds' column is timezone-naive\n",
    "df_temp['ds'] = df_temp['ds'].dt.tz_localize(None)\n",
    "\n",
    "# Splitting data into train and test sets\n",
    "train_size = int(len(df_temp) * 0.8)  # 80% for training, 20% for testing\n",
    "train_data = df_temp.iloc[:train_size]\n",
    "test_data = df_temp.iloc[train_size:]\n",
    "\n",
    "periods = (length_of_missing_data / data_logging_interval) + 1\n",
    "\n",
    "# Initialize Prophet model with tuned hyperparameters for temperature\n",
    "model_temp = Prophet(seasonality_mode='additive',\n",
    "                     interval_width=0.95,\n",
    "                     changepoint_prior_scale=0.001)\n",
    "\n",
    "# Fit the model on training data\n",
    "model_temp.fit(train_data)\n",
    "\n",
    "# Create future DataFrame for temperature (next 200 samples, assuming 5-minute intervals)\n",
    "future_temp = model_temp.make_future_dataframe(periods=200, freq='5T')\n",
    "\n",
    "# Predict the future values for temperature\n",
    "forecast_temp = model_temp.predict(future_temp)\n",
    "\n",
    "# Compute RMSE for temperature on test data\n",
    "actual_temp = test_data['y'].values\n",
    "predicted_temp = forecast_temp['yhat'].values[-len(test_data):]  # Last len(test_data) predictions\n",
    "rmse_temp = np.sqrt(mean_squared_error(actual_temp, predicted_temp))\n",
    "print(f\"RMSE for temp: {rmse_temp}\")\n"
   ]
  },
  {
   "cell_type": "code",
   "execution_count": null,
   "id": "c0aaed5c-0c87-47f8-8de5-1eac23e08809",
   "metadata": {},
   "outputs": [],
   "source": []
  }
 ],
 "metadata": {
  "kernelspec": {
   "display_name": "Python 3 (ipykernel)",
   "language": "python",
   "name": "python3"
  },
  "language_info": {
   "codemirror_mode": {
    "name": "ipython",
    "version": 3
   },
   "file_extension": ".py",
   "mimetype": "text/x-python",
   "name": "python",
   "nbconvert_exporter": "python",
   "pygments_lexer": "ipython3",
   "version": "3.11.7"
  }
 },
 "nbformat": 4,
 "nbformat_minor": 5
}
