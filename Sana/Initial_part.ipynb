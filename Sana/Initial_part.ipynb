{
 "cells": [
  {
   "cell_type": "code",
   "execution_count": 1,
   "id": "5986f166-5d7f-4429-8b4a-81c51b59aa7e",
   "metadata": {},
   "outputs": [],
   "source": [
    "import pandas as pd"
   ]
  },
  {
   "cell_type": "code",
   "execution_count": 2,
   "id": "a8a90e12-6d4b-46bf-9cc6-e1943bd13fcc",
   "metadata": {},
   "outputs": [],
   "source": [
    "from data_extraction.dummy_data_extractor import extract_dummy_data"
   ]
  },
  {
   "cell_type": "code",
   "execution_count": 4,
   "id": "13bfd49f-46b3-498a-852b-7571f2a2958d",
   "metadata": {},
   "outputs": [
    {
     "name": "stderr",
     "output_type": "stream",
     "text": [
      "C:\\Users\\syounas\\OneDrive - Enova Facilities Management\\Tasks\\GitHub\\HubgradeDataCleaning\\Sana\\data_extraction\\dummy_data_extractor.py:16: FutureWarning: Setting an item of incompatible dtype is deprecated and will raise in a future error of pandas. Value '2023-03-12 01:05:00+04:00' has dtype incompatible with datetime64[ns], please explicitly cast to a compatible dtype first.\n",
      "  pythonDF.loc[i, 'dqStart'] = pd.to_datetime(df['ts'].iloc[i], format=\"%Y-%m-%dT%H:%M:%S%z Dubai\")\n"
     ]
    }
   ],
   "source": [
    "master_table = extract_dummy_data(\"dummy_data\")"
   ]
  },
  {
   "cell_type": "code",
   "execution_count": 6,
   "id": "1715b50e-fdb5-4eff-834f-1d7defdb11b4",
   "metadata": {},
   "outputs": [
    {
     "name": "stdout",
     "output_type": "stream",
     "text": [
      "                                             pointID unit dqType  \\\n",
      "0  @p:dmc_All:r:2ddf07d5-ef59ca94 DMC Building 1 ...   °C  Nulls   \n",
      "1  @p:dmc_All:r:2ddf07d5-ef59ca94 DMC Building 1 ...   °C  Nulls   \n",
      "\n",
      "                     dqStart      dqDuration   pointInterval  \\\n",
      "0  2023-03-12 01:05:00+04:00 1 days 11:10:00 0 days 00:05:00   \n",
      "1  2023-03-19 01:10:00+04:00 0 days 23:30:00 0 days 00:05:00   \n",
      "\n",
      "                          features  \\\n",
      "0  [p:dmc_All:r:2de337c0-72b69972]   \n",
      "1  [p:dmc_All:r:2de337c0-72b69972]   \n",
      "\n",
      "                                                 his  \n",
      "0                                  DMC Building 1...  \n",
      "1                                  DMC Building 1...  \n"
     ]
    }
   ],
   "source": [
    "print(master_table.head())"
   ]
  },
  {
   "cell_type": "code",
   "execution_count": 8,
   "id": "75b24181-8f4b-4b01-a8c3-348596a941b6",
   "metadata": {},
   "outputs": [],
   "source": [
    "his_data = master_table['his']"
   ]
  },
  {
   "cell_type": "code",
   "execution_count": 10,
   "id": "3b9113a8-fdab-4118-bede-9abd5335c498",
   "metadata": {},
   "outputs": [
    {
     "name": "stdout",
     "output_type": "stream",
     "text": [
      "0                                    DMC Building 1...\n",
      "1                                    DMC Building 1...\n",
      "Name: his, dtype: object\n"
     ]
    }
   ],
   "source": [
    "print(his_data.head())"
   ]
  },
  {
   "cell_type": "code",
   "execution_count": null,
   "id": "4971cd1f-fd58-4638-a59b-4d0ed3faccb0",
   "metadata": {},
   "outputs": [],
   "source": []
  }
 ],
 "metadata": {
  "kernelspec": {
   "display_name": "Python 3 (ipykernel)",
   "language": "python",
   "name": "python3"
  },
  "language_info": {
   "codemirror_mode": {
    "name": "ipython",
    "version": 3
   },
   "file_extension": ".py",
   "mimetype": "text/x-python",
   "name": "python",
   "nbconvert_exporter": "python",
   "pygments_lexer": "ipython3",
   "version": "3.11.7"
  }
 },
 "nbformat": 4,
 "nbformat_minor": 5
}
