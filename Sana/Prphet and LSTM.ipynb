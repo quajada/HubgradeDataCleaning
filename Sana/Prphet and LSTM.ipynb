{
 "cells": [
  {
   "cell_type": "code",
   "execution_count": 2,
   "id": "168d64c5-90dc-4a4f-912f-d61dad39c9be",
   "metadata": {},
   "outputs": [],
   "source": [
    "import pandas as pd\n",
    "from prophet import Prophet\n",
    "from sklearn.metrics import mean_squared_error\n",
    "import numpy as np\n",
    "from data_extraction.dummy_data_extractor import extract_dummy_data"
   ]
  },
  {
   "cell_type": "code",
   "execution_count": 4,
   "id": "9706a999-ba87-4cfc-80e9-1de2bbce5720",
   "metadata": {},
   "outputs": [
    {
     "name": "stderr",
     "output_type": "stream",
     "text": [
      "C:\\Users\\syounas\\OneDrive - Enova Facilities Management\\Tasks\\GitHub\\HubgradeDataCleaning\\Sana\\data_extraction\\dummy_data_extractor.py:16: FutureWarning: Setting an item of incompatible dtype is deprecated and will raise in a future error of pandas. Value '2023-03-12 01:05:00+04:00' has dtype incompatible with datetime64[ns], please explicitly cast to a compatible dtype first.\n",
      "  pythonDF.loc[i, 'dqStart'] = pd.to_datetime(df['ts'].iloc[i], format=\"%Y-%m-%dT%H:%M:%S%z Dubai\")\n"
     ]
    }
   ],
   "source": [
    "master_table = extract_dummy_data(\"dummy_data\")"
   ]
  },
  {
   "cell_type": "code",
   "execution_count": 6,
   "id": "6a3db727-6c76-4202-a367-3625802bdba1",
   "metadata": {},
   "outputs": [
    {
     "data": {
      "text/html": [
       "<div>\n",
       "<style scoped>\n",
       "    .dataframe tbody tr th:only-of-type {\n",
       "        vertical-align: middle;\n",
       "    }\n",
       "\n",
       "    .dataframe tbody tr th {\n",
       "        vertical-align: top;\n",
       "    }\n",
       "\n",
       "    .dataframe thead th {\n",
       "        text-align: right;\n",
       "    }\n",
       "</style>\n",
       "<table border=\"1\" class=\"dataframe\">\n",
       "  <thead>\n",
       "    <tr style=\"text-align: right;\">\n",
       "      <th></th>\n",
       "      <th>pointID</th>\n",
       "      <th>unit</th>\n",
       "      <th>dqType</th>\n",
       "      <th>dqStart</th>\n",
       "      <th>dqDuration</th>\n",
       "      <th>pointInterval</th>\n",
       "      <th>features</th>\n",
       "      <th>his</th>\n",
       "    </tr>\n",
       "  </thead>\n",
       "  <tbody>\n",
       "    <tr>\n",
       "      <th>0</th>\n",
       "      <td>@p:dmc_All:r:2ddf07d5-ef59ca94 DMC Building 1 ...</td>\n",
       "      <td>°C</td>\n",
       "      <td>Nulls</td>\n",
       "      <td>2023-03-12 01:05:00+04:00</td>\n",
       "      <td>1 days 11:10:00</td>\n",
       "      <td>0 days 00:05:00</td>\n",
       "      <td>[p:dmc_All:r:2de337c0-72b69972]</td>\n",
       "      <td>DMC Building 1...</td>\n",
       "    </tr>\n",
       "    <tr>\n",
       "      <th>1</th>\n",
       "      <td>@p:dmc_All:r:2ddf07d5-ef59ca94 DMC Building 1 ...</td>\n",
       "      <td>°C</td>\n",
       "      <td>Nulls</td>\n",
       "      <td>2023-03-19 01:10:00+04:00</td>\n",
       "      <td>0 days 23:30:00</td>\n",
       "      <td>0 days 00:05:00</td>\n",
       "      <td>[p:dmc_All:r:2de337c0-72b69972]</td>\n",
       "      <td>DMC Building 1...</td>\n",
       "    </tr>\n",
       "  </tbody>\n",
       "</table>\n",
       "</div>"
      ],
      "text/plain": [
       "                                             pointID unit dqType  \\\n",
       "0  @p:dmc_All:r:2ddf07d5-ef59ca94 DMC Building 1 ...   °C  Nulls   \n",
       "1  @p:dmc_All:r:2ddf07d5-ef59ca94 DMC Building 1 ...   °C  Nulls   \n",
       "\n",
       "                     dqStart      dqDuration   pointInterval  \\\n",
       "0  2023-03-12 01:05:00+04:00 1 days 11:10:00 0 days 00:05:00   \n",
       "1  2023-03-19 01:10:00+04:00 0 days 23:30:00 0 days 00:05:00   \n",
       "\n",
       "                          features  \\\n",
       "0  [p:dmc_All:r:2de337c0-72b69972]   \n",
       "1  [p:dmc_All:r:2de337c0-72b69972]   \n",
       "\n",
       "                                                 his  \n",
       "0                                  DMC Building 1...  \n",
       "1                                  DMC Building 1...  "
      ]
     },
     "execution_count": 6,
     "metadata": {},
     "output_type": "execute_result"
    }
   ],
   "source": [
    "master_table"
   ]
  },
  {
   "cell_type": "code",
   "execution_count": 8,
   "id": "cb8236ca-6f4e-44b5-ace0-ea2d6eca9e1d",
   "metadata": {},
   "outputs": [],
   "source": [
    "df = master_table.at[0,\"his\"]"
   ]
  },
  {
   "cell_type": "code",
   "execution_count": 24,
   "id": "8cd1cd36-b190-42af-9602-fbc46a77faf4",
   "metadata": {},
   "outputs": [
    {
     "name": "stdout",
     "output_type": "stream",
     "text": [
      "Index(['DMC Building 1 Data Quality Tests Dup of AHU_04_B1 Return Air Temp', 'DMC Building 1 Data Quality Tests New-Point'], dtype='object')\n"
     ]
    }
   ],
   "source": [
    "print(df.columns)\n"
   ]
  },
  {
   "cell_type": "code",
   "execution_count": 12,
   "id": "51adb493-438b-492f-8a7f-3148e921f22f",
   "metadata": {},
   "outputs": [],
   "source": [
    "file_path = r'C:\\Users\\syounas\\OneDrive - Enova Facilities Management\\Tasks\\GitHub\\HubgradeDataCleaning\\Sana\\Data\\dc.csv'\n",
    "\n",
    "# Save the DataFrame to the specified file path\n",
    "df.to_csv(file_path, index=True)"
   ]
  },
  {
   "cell_type": "code",
   "execution_count": 14,
   "id": "e428f056-5032-421e-a932-6553be11e159",
   "metadata": {},
   "outputs": [],
   "source": [
    "df.reset_index()\n",
    "df = df.dropna()"
   ]
  },
  {
   "cell_type": "code",
   "execution_count": 16,
   "id": "03f081e8-4ad6-4586-9536-4b62c005fd30",
   "metadata": {},
   "outputs": [
    {
     "data": {
      "text/html": [
       "<div>\n",
       "<style scoped>\n",
       "    .dataframe tbody tr th:only-of-type {\n",
       "        vertical-align: middle;\n",
       "    }\n",
       "\n",
       "    .dataframe tbody tr th {\n",
       "        vertical-align: top;\n",
       "    }\n",
       "\n",
       "    .dataframe thead th {\n",
       "        text-align: right;\n",
       "    }\n",
       "</style>\n",
       "<table border=\"1\" class=\"dataframe\">\n",
       "  <thead>\n",
       "    <tr style=\"text-align: right;\">\n",
       "      <th></th>\n",
       "      <th>DMC Building 1 Data Quality Tests Dup of AHU_04_B1 Return Air Temp</th>\n",
       "      <th>DMC Building 1 Data Quality Tests New-Point</th>\n",
       "    </tr>\n",
       "    <tr>\n",
       "      <th>ts</th>\n",
       "      <th></th>\n",
       "      <th></th>\n",
       "    </tr>\n",
       "  </thead>\n",
       "  <tbody>\n",
       "    <tr>\n",
       "      <th>2023-03-07T21:05:00+04:00 Dubai</th>\n",
       "      <td>23.522281646728516°C</td>\n",
       "      <td>34.59%</td>\n",
       "    </tr>\n",
       "    <tr>\n",
       "      <th>2023-03-07T21:10:00+04:00 Dubai</th>\n",
       "      <td>23.522281646728516°C</td>\n",
       "      <td>34.59%</td>\n",
       "    </tr>\n",
       "    <tr>\n",
       "      <th>2023-03-07T21:15:00+04:00 Dubai</th>\n",
       "      <td>23.522281646728516°C</td>\n",
       "      <td>34.59%</td>\n",
       "    </tr>\n",
       "    <tr>\n",
       "      <th>2023-03-07T21:20:00+04:00 Dubai</th>\n",
       "      <td>23.522281646728516°C</td>\n",
       "      <td>34.59%</td>\n",
       "    </tr>\n",
       "    <tr>\n",
       "      <th>2023-03-07T21:25:00+04:00 Dubai</th>\n",
       "      <td>23.522281646728516°C</td>\n",
       "      <td>34.59%</td>\n",
       "    </tr>\n",
       "    <tr>\n",
       "      <th>...</th>\n",
       "      <td>...</td>\n",
       "      <td>...</td>\n",
       "    </tr>\n",
       "    <tr>\n",
       "      <th>2023-03-12T00:40:00+04:00 Dubai</th>\n",
       "      <td>24.119338989257812°C</td>\n",
       "      <td>31.96%</td>\n",
       "    </tr>\n",
       "    <tr>\n",
       "      <th>2023-03-12T00:45:00+04:00 Dubai</th>\n",
       "      <td>24.119338989257812°C</td>\n",
       "      <td>33.18%</td>\n",
       "    </tr>\n",
       "    <tr>\n",
       "      <th>2023-03-12T00:50:00+04:00 Dubai</th>\n",
       "      <td>24.119338989257812°C</td>\n",
       "      <td>35.32%</td>\n",
       "    </tr>\n",
       "    <tr>\n",
       "      <th>2023-03-12T00:55:00+04:00 Dubai</th>\n",
       "      <td>24.119338989257812°C</td>\n",
       "      <td>33.51%</td>\n",
       "    </tr>\n",
       "    <tr>\n",
       "      <th>2023-03-12T01:00:00+04:00 Dubai</th>\n",
       "      <td>24.119338989257812°C</td>\n",
       "      <td>33.51%</td>\n",
       "    </tr>\n",
       "  </tbody>\n",
       "</table>\n",
       "<p>1200 rows × 2 columns</p>\n",
       "</div>"
      ],
      "text/plain": [
       "                                DMC Building 1 Data Quality Tests Dup of AHU_04_B1 Return Air Temp  \\\n",
       "ts                                                                                                   \n",
       "2023-03-07T21:05:00+04:00 Dubai                               23.522281646728516°C                   \n",
       "2023-03-07T21:10:00+04:00 Dubai                               23.522281646728516°C                   \n",
       "2023-03-07T21:15:00+04:00 Dubai                               23.522281646728516°C                   \n",
       "2023-03-07T21:20:00+04:00 Dubai                               23.522281646728516°C                   \n",
       "2023-03-07T21:25:00+04:00 Dubai                               23.522281646728516°C                   \n",
       "...                                                                            ...                   \n",
       "2023-03-12T00:40:00+04:00 Dubai                               24.119338989257812°C                   \n",
       "2023-03-12T00:45:00+04:00 Dubai                               24.119338989257812°C                   \n",
       "2023-03-12T00:50:00+04:00 Dubai                               24.119338989257812°C                   \n",
       "2023-03-12T00:55:00+04:00 Dubai                               24.119338989257812°C                   \n",
       "2023-03-12T01:00:00+04:00 Dubai                               24.119338989257812°C                   \n",
       "\n",
       "                                DMC Building 1 Data Quality Tests New-Point  \n",
       "ts                                                                           \n",
       "2023-03-07T21:05:00+04:00 Dubai                                      34.59%  \n",
       "2023-03-07T21:10:00+04:00 Dubai                                      34.59%  \n",
       "2023-03-07T21:15:00+04:00 Dubai                                      34.59%  \n",
       "2023-03-07T21:20:00+04:00 Dubai                                      34.59%  \n",
       "2023-03-07T21:25:00+04:00 Dubai                                      34.59%  \n",
       "...                                                                     ...  \n",
       "2023-03-12T00:40:00+04:00 Dubai                                      31.96%  \n",
       "2023-03-12T00:45:00+04:00 Dubai                                      33.18%  \n",
       "2023-03-12T00:50:00+04:00 Dubai                                      35.32%  \n",
       "2023-03-12T00:55:00+04:00 Dubai                                      33.51%  \n",
       "2023-03-12T01:00:00+04:00 Dubai                                      33.51%  \n",
       "\n",
       "[1200 rows x 2 columns]"
      ]
     },
     "execution_count": 16,
     "metadata": {},
     "output_type": "execute_result"
    }
   ],
   "source": [
    "df"
   ]
  },
  {
   "cell_type": "code",
   "execution_count": 22,
   "id": "64d95957-9c45-4c16-a461-3f9da5647282",
   "metadata": {},
   "outputs": [
    {
     "ename": "ValueError",
     "evalue": "Length mismatch: Expected axis has 2 elements, new values have 3 elements",
     "output_type": "error",
     "traceback": [
      "\u001b[1;31m---------------------------------------------------------------------------\u001b[0m",
      "\u001b[1;31mValueError\u001b[0m                                Traceback (most recent call last)",
      "Cell \u001b[1;32mIn[22], line 1\u001b[0m\n\u001b[1;32m----> 1\u001b[0m df\u001b[38;5;241m.\u001b[39mcolumns \u001b[38;5;241m=\u001b[39m [\u001b[38;5;124m'\u001b[39m\u001b[38;5;124mts\u001b[39m\u001b[38;5;124m'\u001b[39m, \u001b[38;5;124m'\u001b[39m\u001b[38;5;124mtemp\u001b[39m\u001b[38;5;124m'\u001b[39m, \u001b[38;5;124m'\u001b[39m\u001b[38;5;124mnew_point\u001b[39m\u001b[38;5;124m'\u001b[39m]\n",
      "File \u001b[1;32mC:\\Anaconda\\Lib\\site-packages\\pandas\\core\\generic.py:6218\u001b[0m, in \u001b[0;36mNDFrame.__setattr__\u001b[1;34m(self, name, value)\u001b[0m\n\u001b[0;32m   6216\u001b[0m \u001b[38;5;28;01mtry\u001b[39;00m:\n\u001b[0;32m   6217\u001b[0m     \u001b[38;5;28mobject\u001b[39m\u001b[38;5;241m.\u001b[39m\u001b[38;5;21m__getattribute__\u001b[39m(\u001b[38;5;28mself\u001b[39m, name)\n\u001b[1;32m-> 6218\u001b[0m     \u001b[38;5;28;01mreturn\u001b[39;00m \u001b[38;5;28mobject\u001b[39m\u001b[38;5;241m.\u001b[39m\u001b[38;5;21m__setattr__\u001b[39m(\u001b[38;5;28mself\u001b[39m, name, value)\n\u001b[0;32m   6219\u001b[0m \u001b[38;5;28;01mexcept\u001b[39;00m \u001b[38;5;167;01mAttributeError\u001b[39;00m:\n\u001b[0;32m   6220\u001b[0m     \u001b[38;5;28;01mpass\u001b[39;00m\n",
      "File \u001b[1;32mproperties.pyx:69\u001b[0m, in \u001b[0;36mpandas._libs.properties.AxisProperty.__set__\u001b[1;34m()\u001b[0m\n",
      "File \u001b[1;32mC:\\Anaconda\\Lib\\site-packages\\pandas\\core\\generic.py:767\u001b[0m, in \u001b[0;36mNDFrame._set_axis\u001b[1;34m(self, axis, labels)\u001b[0m\n\u001b[0;32m    762\u001b[0m \u001b[38;5;250m\u001b[39m\u001b[38;5;124;03m\"\"\"\u001b[39;00m\n\u001b[0;32m    763\u001b[0m \u001b[38;5;124;03mThis is called from the cython code when we set the `index` attribute\u001b[39;00m\n\u001b[0;32m    764\u001b[0m \u001b[38;5;124;03mdirectly, e.g. `series.index = [1, 2, 3]`.\u001b[39;00m\n\u001b[0;32m    765\u001b[0m \u001b[38;5;124;03m\"\"\"\u001b[39;00m\n\u001b[0;32m    766\u001b[0m labels \u001b[38;5;241m=\u001b[39m ensure_index(labels)\n\u001b[1;32m--> 767\u001b[0m \u001b[38;5;28mself\u001b[39m\u001b[38;5;241m.\u001b[39m_mgr\u001b[38;5;241m.\u001b[39mset_axis(axis, labels)\n\u001b[0;32m    768\u001b[0m \u001b[38;5;28mself\u001b[39m\u001b[38;5;241m.\u001b[39m_clear_item_cache()\n",
      "File \u001b[1;32mC:\\Anaconda\\Lib\\site-packages\\pandas\\core\\internals\\managers.py:227\u001b[0m, in \u001b[0;36mBaseBlockManager.set_axis\u001b[1;34m(self, axis, new_labels)\u001b[0m\n\u001b[0;32m    225\u001b[0m \u001b[38;5;28;01mdef\u001b[39;00m \u001b[38;5;21mset_axis\u001b[39m(\u001b[38;5;28mself\u001b[39m, axis: AxisInt, new_labels: Index) \u001b[38;5;241m-\u001b[39m\u001b[38;5;241m>\u001b[39m \u001b[38;5;28;01mNone\u001b[39;00m:\n\u001b[0;32m    226\u001b[0m     \u001b[38;5;66;03m# Caller is responsible for ensuring we have an Index object.\u001b[39;00m\n\u001b[1;32m--> 227\u001b[0m     \u001b[38;5;28mself\u001b[39m\u001b[38;5;241m.\u001b[39m_validate_set_axis(axis, new_labels)\n\u001b[0;32m    228\u001b[0m     \u001b[38;5;28mself\u001b[39m\u001b[38;5;241m.\u001b[39maxes[axis] \u001b[38;5;241m=\u001b[39m new_labels\n",
      "File \u001b[1;32mC:\\Anaconda\\Lib\\site-packages\\pandas\\core\\internals\\base.py:85\u001b[0m, in \u001b[0;36mDataManager._validate_set_axis\u001b[1;34m(self, axis, new_labels)\u001b[0m\n\u001b[0;32m     82\u001b[0m     \u001b[38;5;28;01mpass\u001b[39;00m\n\u001b[0;32m     84\u001b[0m \u001b[38;5;28;01melif\u001b[39;00m new_len \u001b[38;5;241m!=\u001b[39m old_len:\n\u001b[1;32m---> 85\u001b[0m     \u001b[38;5;28;01mraise\u001b[39;00m \u001b[38;5;167;01mValueError\u001b[39;00m(\n\u001b[0;32m     86\u001b[0m         \u001b[38;5;124mf\u001b[39m\u001b[38;5;124m\"\u001b[39m\u001b[38;5;124mLength mismatch: Expected axis has \u001b[39m\u001b[38;5;132;01m{\u001b[39;00mold_len\u001b[38;5;132;01m}\u001b[39;00m\u001b[38;5;124m elements, new \u001b[39m\u001b[38;5;124m\"\u001b[39m\n\u001b[0;32m     87\u001b[0m         \u001b[38;5;124mf\u001b[39m\u001b[38;5;124m\"\u001b[39m\u001b[38;5;124mvalues have \u001b[39m\u001b[38;5;132;01m{\u001b[39;00mnew_len\u001b[38;5;132;01m}\u001b[39;00m\u001b[38;5;124m elements\u001b[39m\u001b[38;5;124m\"\u001b[39m\n\u001b[0;32m     88\u001b[0m     )\n",
      "\u001b[1;31mValueError\u001b[0m: Length mismatch: Expected axis has 2 elements, new values have 3 elements"
     ]
    }
   ],
   "source": [
    "df.columns = ['ts', 'temp', 'new_point']"
   ]
  },
  {
   "cell_type": "code",
   "execution_count": 20,
   "id": "1b12f795-9eb7-4081-9d6c-c983efaf35be",
   "metadata": {},
   "outputs": [
    {
     "data": {
      "text/html": [
       "<div>\n",
       "<style scoped>\n",
       "    .dataframe tbody tr th:only-of-type {\n",
       "        vertical-align: middle;\n",
       "    }\n",
       "\n",
       "    .dataframe tbody tr th {\n",
       "        vertical-align: top;\n",
       "    }\n",
       "\n",
       "    .dataframe thead th {\n",
       "        text-align: right;\n",
       "    }\n",
       "</style>\n",
       "<table border=\"1\" class=\"dataframe\">\n",
       "  <thead>\n",
       "    <tr style=\"text-align: right;\">\n",
       "      <th></th>\n",
       "      <th>DMC Building 1 Data Quality Tests Dup of AHU_04_B1 Return Air Temp</th>\n",
       "      <th>DMC Building 1 Data Quality Tests New-Point</th>\n",
       "    </tr>\n",
       "    <tr>\n",
       "      <th>ts</th>\n",
       "      <th></th>\n",
       "      <th></th>\n",
       "    </tr>\n",
       "  </thead>\n",
       "  <tbody>\n",
       "    <tr>\n",
       "      <th>2023-03-07T21:05:00+04:00 Dubai</th>\n",
       "      <td>23.522281646728516°C</td>\n",
       "      <td>34.59%</td>\n",
       "    </tr>\n",
       "    <tr>\n",
       "      <th>2023-03-07T21:10:00+04:00 Dubai</th>\n",
       "      <td>23.522281646728516°C</td>\n",
       "      <td>34.59%</td>\n",
       "    </tr>\n",
       "    <tr>\n",
       "      <th>2023-03-07T21:15:00+04:00 Dubai</th>\n",
       "      <td>23.522281646728516°C</td>\n",
       "      <td>34.59%</td>\n",
       "    </tr>\n",
       "    <tr>\n",
       "      <th>2023-03-07T21:20:00+04:00 Dubai</th>\n",
       "      <td>23.522281646728516°C</td>\n",
       "      <td>34.59%</td>\n",
       "    </tr>\n",
       "    <tr>\n",
       "      <th>2023-03-07T21:25:00+04:00 Dubai</th>\n",
       "      <td>23.522281646728516°C</td>\n",
       "      <td>34.59%</td>\n",
       "    </tr>\n",
       "    <tr>\n",
       "      <th>...</th>\n",
       "      <td>...</td>\n",
       "      <td>...</td>\n",
       "    </tr>\n",
       "    <tr>\n",
       "      <th>2023-03-12T00:40:00+04:00 Dubai</th>\n",
       "      <td>24.119338989257812°C</td>\n",
       "      <td>31.96%</td>\n",
       "    </tr>\n",
       "    <tr>\n",
       "      <th>2023-03-12T00:45:00+04:00 Dubai</th>\n",
       "      <td>24.119338989257812°C</td>\n",
       "      <td>33.18%</td>\n",
       "    </tr>\n",
       "    <tr>\n",
       "      <th>2023-03-12T00:50:00+04:00 Dubai</th>\n",
       "      <td>24.119338989257812°C</td>\n",
       "      <td>35.32%</td>\n",
       "    </tr>\n",
       "    <tr>\n",
       "      <th>2023-03-12T00:55:00+04:00 Dubai</th>\n",
       "      <td>24.119338989257812°C</td>\n",
       "      <td>33.51%</td>\n",
       "    </tr>\n",
       "    <tr>\n",
       "      <th>2023-03-12T01:00:00+04:00 Dubai</th>\n",
       "      <td>24.119338989257812°C</td>\n",
       "      <td>33.51%</td>\n",
       "    </tr>\n",
       "  </tbody>\n",
       "</table>\n",
       "<p>1200 rows × 2 columns</p>\n",
       "</div>"
      ],
      "text/plain": [
       "                                DMC Building 1 Data Quality Tests Dup of AHU_04_B1 Return Air Temp  \\\n",
       "ts                                                                                                   \n",
       "2023-03-07T21:05:00+04:00 Dubai                               23.522281646728516°C                   \n",
       "2023-03-07T21:10:00+04:00 Dubai                               23.522281646728516°C                   \n",
       "2023-03-07T21:15:00+04:00 Dubai                               23.522281646728516°C                   \n",
       "2023-03-07T21:20:00+04:00 Dubai                               23.522281646728516°C                   \n",
       "2023-03-07T21:25:00+04:00 Dubai                               23.522281646728516°C                   \n",
       "...                                                                            ...                   \n",
       "2023-03-12T00:40:00+04:00 Dubai                               24.119338989257812°C                   \n",
       "2023-03-12T00:45:00+04:00 Dubai                               24.119338989257812°C                   \n",
       "2023-03-12T00:50:00+04:00 Dubai                               24.119338989257812°C                   \n",
       "2023-03-12T00:55:00+04:00 Dubai                               24.119338989257812°C                   \n",
       "2023-03-12T01:00:00+04:00 Dubai                               24.119338989257812°C                   \n",
       "\n",
       "                                DMC Building 1 Data Quality Tests New-Point  \n",
       "ts                                                                           \n",
       "2023-03-07T21:05:00+04:00 Dubai                                      34.59%  \n",
       "2023-03-07T21:10:00+04:00 Dubai                                      34.59%  \n",
       "2023-03-07T21:15:00+04:00 Dubai                                      34.59%  \n",
       "2023-03-07T21:20:00+04:00 Dubai                                      34.59%  \n",
       "2023-03-07T21:25:00+04:00 Dubai                                      34.59%  \n",
       "...                                                                     ...  \n",
       "2023-03-12T00:40:00+04:00 Dubai                                      31.96%  \n",
       "2023-03-12T00:45:00+04:00 Dubai                                      33.18%  \n",
       "2023-03-12T00:50:00+04:00 Dubai                                      35.32%  \n",
       "2023-03-12T00:55:00+04:00 Dubai                                      33.51%  \n",
       "2023-03-12T01:00:00+04:00 Dubai                                      33.51%  \n",
       "\n",
       "[1200 rows x 2 columns]"
      ]
     },
     "execution_count": 20,
     "metadata": {},
     "output_type": "execute_result"
    }
   ],
   "source": [
    "df"
   ]
  },
  {
   "cell_type": "code",
   "execution_count": 47,
   "id": "6b4e2d85-6dbe-4c31-b0c6-4e0542f3db6a",
   "metadata": {},
   "outputs": [],
   "source": [
    "file_path = r'C:\\Users\\syounas\\OneDrive - Enova Facilities Management\\Tasks\\GitHub\\HubgradeDataCleaning\\Sana\\Data\\dfA.csv'\n",
    "\n",
    "# Save the DataFrame to the specified file path\n",
    "df.to_csv(file_path, index=True)"
   ]
  },
  {
   "cell_type": "code",
   "execution_count": null,
   "id": "04b24894-b404-400c-8385-540060e44ce4",
   "metadata": {},
   "outputs": [],
   "source": []
  }
 ],
 "metadata": {
  "kernelspec": {
   "display_name": "Python 3 (ipykernel)",
   "language": "python",
   "name": "python3"
  },
  "language_info": {
   "codemirror_mode": {
    "name": "ipython",
    "version": 3
   },
   "file_extension": ".py",
   "mimetype": "text/x-python",
   "name": "python",
   "nbconvert_exporter": "python",
   "pygments_lexer": "ipython3",
   "version": "3.11.7"
  }
 },
 "nbformat": 4,
 "nbformat_minor": 5
}
