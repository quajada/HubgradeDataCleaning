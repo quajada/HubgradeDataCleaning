{
 "cells": [
  {
   "cell_type": "code",
   "execution_count": 1,
   "id": "168d64c5-90dc-4a4f-912f-d61dad39c9be",
   "metadata": {},
   "outputs": [],
   "source": [
    "import pandas as pd\n",
    "from prophet import Prophet\n",
    "from sklearn.metrics import mean_squared_error\n",
    "import numpy as np\n",
    "from data_extraction.dummy_data_extractor import extract_dummy_data"
   ]
  },
  {
   "cell_type": "code",
   "execution_count": 2,
   "id": "9706a999-ba87-4cfc-80e9-1de2bbce5720",
   "metadata": {},
   "outputs": [
    {
     "name": "stderr",
     "output_type": "stream",
     "text": [
      "C:\\Users\\syounas\\OneDrive - Enova Facilities Management\\Tasks\\GitHub\\HubgradeDataCleaning\\Sana\\data_extraction\\dummy_data_extractor.py:16: FutureWarning: Setting an item of incompatible dtype is deprecated and will raise in a future error of pandas. Value '2023-03-12 01:05:00+04:00' has dtype incompatible with datetime64[ns], please explicitly cast to a compatible dtype first.\n",
      "  pythonDF.loc[i, 'dqStart'] = pd.to_datetime(df['ts'].iloc[i], format=\"%Y-%m-%dT%H:%M:%S%z Dubai\")\n"
     ]
    }
   ],
   "source": [
    "master_table = extract_dummy_data(\"dummy_data\")"
   ]
  },
  {
   "cell_type": "code",
   "execution_count": 3,
   "id": "6a3db727-6c76-4202-a367-3625802bdba1",
   "metadata": {},
   "outputs": [
    {
     "data": {
      "text/html": [
       "<div>\n",
       "<style scoped>\n",
       "    .dataframe tbody tr th:only-of-type {\n",
       "        vertical-align: middle;\n",
       "    }\n",
       "\n",
       "    .dataframe tbody tr th {\n",
       "        vertical-align: top;\n",
       "    }\n",
       "\n",
       "    .dataframe thead th {\n",
       "        text-align: right;\n",
       "    }\n",
       "</style>\n",
       "<table border=\"1\" class=\"dataframe\">\n",
       "  <thead>\n",
       "    <tr style=\"text-align: right;\">\n",
       "      <th></th>\n",
       "      <th>pointID</th>\n",
       "      <th>unit</th>\n",
       "      <th>dqType</th>\n",
       "      <th>dqStart</th>\n",
       "      <th>dqDuration</th>\n",
       "      <th>pointInterval</th>\n",
       "      <th>features</th>\n",
       "      <th>his</th>\n",
       "    </tr>\n",
       "  </thead>\n",
       "  <tbody>\n",
       "    <tr>\n",
       "      <th>0</th>\n",
       "      <td>@p:dmc_All:r:2ddf07d5-ef59ca94 DMC Building 1 ...</td>\n",
       "      <td>°C</td>\n",
       "      <td>Nulls</td>\n",
       "      <td>2023-03-12 01:05:00+04:00</td>\n",
       "      <td>1 days 11:10:00</td>\n",
       "      <td>0 days 00:05:00</td>\n",
       "      <td>[p:dmc_All:r:2de337c0-72b69972]</td>\n",
       "      <td>...</td>\n",
       "    </tr>\n",
       "    <tr>\n",
       "      <th>1</th>\n",
       "      <td>@p:dmc_All:r:2ddf07d5-ef59ca94 DMC Building 1 ...</td>\n",
       "      <td>°C</td>\n",
       "      <td>Nulls</td>\n",
       "      <td>2023-03-19 01:10:00+04:00</td>\n",
       "      <td>0 days 23:30:00</td>\n",
       "      <td>0 days 00:05:00</td>\n",
       "      <td>[p:dmc_All:r:2de337c0-72b69972]</td>\n",
       "      <td>DMC Building 1...</td>\n",
       "    </tr>\n",
       "  </tbody>\n",
       "</table>\n",
       "</div>"
      ],
      "text/plain": [
       "                                             pointID unit dqType  \\\n",
       "0  @p:dmc_All:r:2ddf07d5-ef59ca94 DMC Building 1 ...   °C  Nulls   \n",
       "1  @p:dmc_All:r:2ddf07d5-ef59ca94 DMC Building 1 ...   °C  Nulls   \n",
       "\n",
       "                     dqStart      dqDuration   pointInterval  \\\n",
       "0  2023-03-12 01:05:00+04:00 1 days 11:10:00 0 days 00:05:00   \n",
       "1  2023-03-19 01:10:00+04:00 0 days 23:30:00 0 days 00:05:00   \n",
       "\n",
       "                          features  \\\n",
       "0  [p:dmc_All:r:2de337c0-72b69972]   \n",
       "1  [p:dmc_All:r:2de337c0-72b69972]   \n",
       "\n",
       "                                                 his  \n",
       "0                                                ...  \n",
       "1                                  DMC Building 1...  "
      ]
     },
     "execution_count": 3,
     "metadata": {},
     "output_type": "execute_result"
    }
   ],
   "source": [
    "master_table"
   ]
  },
  {
   "cell_type": "code",
   "execution_count": 9,
   "id": "cb8236ca-6f4e-44b5-ace0-ea2d6eca9e1d",
   "metadata": {},
   "outputs": [],
   "source": [
    "df = master_table.at[1,\"his\"]"
   ]
  },
  {
   "cell_type": "code",
   "execution_count": 11,
   "id": "50e8e48e-5a45-4d90-9190-17d9986901ed",
   "metadata": {},
   "outputs": [
    {
     "data": {
      "text/html": [
       "<div>\n",
       "<style scoped>\n",
       "    .dataframe tbody tr th:only-of-type {\n",
       "        vertical-align: middle;\n",
       "    }\n",
       "\n",
       "    .dataframe tbody tr th {\n",
       "        vertical-align: top;\n",
       "    }\n",
       "\n",
       "    .dataframe thead th {\n",
       "        text-align: right;\n",
       "    }\n",
       "</style>\n",
       "<table border=\"1\" class=\"dataframe\">\n",
       "  <thead>\n",
       "    <tr style=\"text-align: right;\">\n",
       "      <th></th>\n",
       "      <th>DMC Building 1 Data Quality Tests Dup of AHU_04_B1 Return Air Temp</th>\n",
       "      <th>DMC Building 1 Data Quality Tests New-Point</th>\n",
       "    </tr>\n",
       "    <tr>\n",
       "      <th>ts</th>\n",
       "      <th></th>\n",
       "      <th></th>\n",
       "    </tr>\n",
       "  </thead>\n",
       "  <tbody>\n",
       "    <tr>\n",
       "      <th>2023-03-14T21:10:00+04:00 Dubai</th>\n",
       "      <td>24.269638061523438°C</td>\n",
       "      <td>33.13%</td>\n",
       "    </tr>\n",
       "    <tr>\n",
       "      <th>2023-03-14T21:15:00+04:00 Dubai</th>\n",
       "      <td>24.269638061523438°C</td>\n",
       "      <td>33.13%</td>\n",
       "    </tr>\n",
       "    <tr>\n",
       "      <th>2023-03-14T21:20:00+04:00 Dubai</th>\n",
       "      <td>24.269638061523438°C</td>\n",
       "      <td>33.13%</td>\n",
       "    </tr>\n",
       "    <tr>\n",
       "      <th>2023-03-14T21:25:00+04:00 Dubai</th>\n",
       "      <td>24.269638061523438°C</td>\n",
       "      <td>33.13%</td>\n",
       "    </tr>\n",
       "    <tr>\n",
       "      <th>2023-03-14T21:30:00+04:00 Dubai</th>\n",
       "      <td>24.269638061523438°C</td>\n",
       "      <td>33.13%</td>\n",
       "    </tr>\n",
       "    <tr>\n",
       "      <th>...</th>\n",
       "      <td>...</td>\n",
       "      <td>...</td>\n",
       "    </tr>\n",
       "    <tr>\n",
       "      <th>2023-03-19T00:45:00+04:00 Dubai</th>\n",
       "      <td>22.633480072021484°C</td>\n",
       "      <td>29.43%</td>\n",
       "    </tr>\n",
       "    <tr>\n",
       "      <th>2023-03-19T00:50:00+04:00 Dubai</th>\n",
       "      <td>22.633480072021484°C</td>\n",
       "      <td>30.55%</td>\n",
       "    </tr>\n",
       "    <tr>\n",
       "      <th>2023-03-19T00:55:00+04:00 Dubai</th>\n",
       "      <td>22.633480072021484°C</td>\n",
       "      <td>30.51%</td>\n",
       "    </tr>\n",
       "    <tr>\n",
       "      <th>2023-03-19T01:00:00+04:00 Dubai</th>\n",
       "      <td>22.633480072021484°C</td>\n",
       "      <td>30.51%</td>\n",
       "    </tr>\n",
       "    <tr>\n",
       "      <th>2023-03-19T01:05:00+04:00 Dubai</th>\n",
       "      <td>22.633480072021484°C</td>\n",
       "      <td>30.51%</td>\n",
       "    </tr>\n",
       "  </tbody>\n",
       "</table>\n",
       "<p>1200 rows × 2 columns</p>\n",
       "</div>"
      ],
      "text/plain": [
       "                                DMC Building 1 Data Quality Tests Dup of AHU_04_B1 Return Air Temp  \\\n",
       "ts                                                                                                   \n",
       "2023-03-14T21:10:00+04:00 Dubai                               24.269638061523438°C                   \n",
       "2023-03-14T21:15:00+04:00 Dubai                               24.269638061523438°C                   \n",
       "2023-03-14T21:20:00+04:00 Dubai                               24.269638061523438°C                   \n",
       "2023-03-14T21:25:00+04:00 Dubai                               24.269638061523438°C                   \n",
       "2023-03-14T21:30:00+04:00 Dubai                               24.269638061523438°C                   \n",
       "...                                                                            ...                   \n",
       "2023-03-19T00:45:00+04:00 Dubai                               22.633480072021484°C                   \n",
       "2023-03-19T00:50:00+04:00 Dubai                               22.633480072021484°C                   \n",
       "2023-03-19T00:55:00+04:00 Dubai                               22.633480072021484°C                   \n",
       "2023-03-19T01:00:00+04:00 Dubai                               22.633480072021484°C                   \n",
       "2023-03-19T01:05:00+04:00 Dubai                               22.633480072021484°C                   \n",
       "\n",
       "                                DMC Building 1 Data Quality Tests New-Point  \n",
       "ts                                                                           \n",
       "2023-03-14T21:10:00+04:00 Dubai                                      33.13%  \n",
       "2023-03-14T21:15:00+04:00 Dubai                                      33.13%  \n",
       "2023-03-14T21:20:00+04:00 Dubai                                      33.13%  \n",
       "2023-03-14T21:25:00+04:00 Dubai                                      33.13%  \n",
       "2023-03-14T21:30:00+04:00 Dubai                                      33.13%  \n",
       "...                                                                     ...  \n",
       "2023-03-19T00:45:00+04:00 Dubai                                      29.43%  \n",
       "2023-03-19T00:50:00+04:00 Dubai                                      30.55%  \n",
       "2023-03-19T00:55:00+04:00 Dubai                                      30.51%  \n",
       "2023-03-19T01:00:00+04:00 Dubai                                      30.51%  \n",
       "2023-03-19T01:05:00+04:00 Dubai                                      30.51%  \n",
       "\n",
       "[1200 rows x 2 columns]"
      ]
     },
     "execution_count": 11,
     "metadata": {},
     "output_type": "execute_result"
    }
   ],
   "source": [
    "df"
   ]
  },
  {
   "cell_type": "code",
   "execution_count": 13,
   "id": "8cd1cd36-b190-42af-9602-fbc46a77faf4",
   "metadata": {},
   "outputs": [
    {
     "name": "stdout",
     "output_type": "stream",
     "text": [
      "Index(['DMC Building 1 Data Quality Tests Dup of AHU_04_B1 Return Air Temp', 'DMC Building 1 Data Quality Tests New-Point'], dtype='object')\n"
     ]
    }
   ],
   "source": [
    "print(df.columns)\n"
   ]
  },
  {
   "cell_type": "code",
   "execution_count": 15,
   "id": "e428f056-5032-421e-a932-6553be11e159",
   "metadata": {},
   "outputs": [],
   "source": [
    "df.reset_index(inplace=True)\n",
    "df = df.dropna()"
   ]
  },
  {
   "cell_type": "code",
   "execution_count": 17,
   "id": "03f081e8-4ad6-4586-9536-4b62c005fd30",
   "metadata": {},
   "outputs": [
    {
     "name": "stdout",
     "output_type": "stream",
     "text": [
      "Index(['ts',\n",
      "       'DMC Building 1 Data Quality Tests Dup of AHU_04_B1 Return Air Temp',\n",
      "       'DMC Building 1 Data Quality Tests New-Point'],\n",
      "      dtype='object')\n"
     ]
    }
   ],
   "source": [
    "print(df.columns)"
   ]
  },
  {
   "cell_type": "code",
   "execution_count": 19,
   "id": "64d95957-9c45-4c16-a461-3f9da5647282",
   "metadata": {},
   "outputs": [],
   "source": [
    "df.columns = ['ds', 'temp', 'new_point']"
   ]
  },
  {
   "cell_type": "code",
   "execution_count": 21,
   "id": "1b12f795-9eb7-4081-9d6c-c983efaf35be",
   "metadata": {},
   "outputs": [
    {
     "data": {
      "text/html": [
       "<div>\n",
       "<style scoped>\n",
       "    .dataframe tbody tr th:only-of-type {\n",
       "        vertical-align: middle;\n",
       "    }\n",
       "\n",
       "    .dataframe tbody tr th {\n",
       "        vertical-align: top;\n",
       "    }\n",
       "\n",
       "    .dataframe thead th {\n",
       "        text-align: right;\n",
       "    }\n",
       "</style>\n",
       "<table border=\"1\" class=\"dataframe\">\n",
       "  <thead>\n",
       "    <tr style=\"text-align: right;\">\n",
       "      <th></th>\n",
       "      <th>ds</th>\n",
       "      <th>temp</th>\n",
       "      <th>new_point</th>\n",
       "    </tr>\n",
       "  </thead>\n",
       "  <tbody>\n",
       "    <tr>\n",
       "      <th>0</th>\n",
       "      <td>2023-03-14T21:10:00+04:00 Dubai</td>\n",
       "      <td>24.269638061523438°C</td>\n",
       "      <td>33.13%</td>\n",
       "    </tr>\n",
       "    <tr>\n",
       "      <th>1</th>\n",
       "      <td>2023-03-14T21:15:00+04:00 Dubai</td>\n",
       "      <td>24.269638061523438°C</td>\n",
       "      <td>33.13%</td>\n",
       "    </tr>\n",
       "    <tr>\n",
       "      <th>2</th>\n",
       "      <td>2023-03-14T21:20:00+04:00 Dubai</td>\n",
       "      <td>24.269638061523438°C</td>\n",
       "      <td>33.13%</td>\n",
       "    </tr>\n",
       "    <tr>\n",
       "      <th>3</th>\n",
       "      <td>2023-03-14T21:25:00+04:00 Dubai</td>\n",
       "      <td>24.269638061523438°C</td>\n",
       "      <td>33.13%</td>\n",
       "    </tr>\n",
       "    <tr>\n",
       "      <th>4</th>\n",
       "      <td>2023-03-14T21:30:00+04:00 Dubai</td>\n",
       "      <td>24.269638061523438°C</td>\n",
       "      <td>33.13%</td>\n",
       "    </tr>\n",
       "    <tr>\n",
       "      <th>...</th>\n",
       "      <td>...</td>\n",
       "      <td>...</td>\n",
       "      <td>...</td>\n",
       "    </tr>\n",
       "    <tr>\n",
       "      <th>1195</th>\n",
       "      <td>2023-03-19T00:45:00+04:00 Dubai</td>\n",
       "      <td>22.633480072021484°C</td>\n",
       "      <td>29.43%</td>\n",
       "    </tr>\n",
       "    <tr>\n",
       "      <th>1196</th>\n",
       "      <td>2023-03-19T00:50:00+04:00 Dubai</td>\n",
       "      <td>22.633480072021484°C</td>\n",
       "      <td>30.55%</td>\n",
       "    </tr>\n",
       "    <tr>\n",
       "      <th>1197</th>\n",
       "      <td>2023-03-19T00:55:00+04:00 Dubai</td>\n",
       "      <td>22.633480072021484°C</td>\n",
       "      <td>30.51%</td>\n",
       "    </tr>\n",
       "    <tr>\n",
       "      <th>1198</th>\n",
       "      <td>2023-03-19T01:00:00+04:00 Dubai</td>\n",
       "      <td>22.633480072021484°C</td>\n",
       "      <td>30.51%</td>\n",
       "    </tr>\n",
       "    <tr>\n",
       "      <th>1199</th>\n",
       "      <td>2023-03-19T01:05:00+04:00 Dubai</td>\n",
       "      <td>22.633480072021484°C</td>\n",
       "      <td>30.51%</td>\n",
       "    </tr>\n",
       "  </tbody>\n",
       "</table>\n",
       "<p>1197 rows × 3 columns</p>\n",
       "</div>"
      ],
      "text/plain": [
       "                                   ds                  temp new_point\n",
       "0     2023-03-14T21:10:00+04:00 Dubai  24.269638061523438°C    33.13%\n",
       "1     2023-03-14T21:15:00+04:00 Dubai  24.269638061523438°C    33.13%\n",
       "2     2023-03-14T21:20:00+04:00 Dubai  24.269638061523438°C    33.13%\n",
       "3     2023-03-14T21:25:00+04:00 Dubai  24.269638061523438°C    33.13%\n",
       "4     2023-03-14T21:30:00+04:00 Dubai  24.269638061523438°C    33.13%\n",
       "...                               ...                   ...       ...\n",
       "1195  2023-03-19T00:45:00+04:00 Dubai  22.633480072021484°C    29.43%\n",
       "1196  2023-03-19T00:50:00+04:00 Dubai  22.633480072021484°C    30.55%\n",
       "1197  2023-03-19T00:55:00+04:00 Dubai  22.633480072021484°C    30.51%\n",
       "1198  2023-03-19T01:00:00+04:00 Dubai  22.633480072021484°C    30.51%\n",
       "1199  2023-03-19T01:05:00+04:00 Dubai  22.633480072021484°C    30.51%\n",
       "\n",
       "[1197 rows x 3 columns]"
      ]
     },
     "execution_count": 21,
     "metadata": {},
     "output_type": "execute_result"
    }
   ],
   "source": [
    "df"
   ]
  },
  {
   "cell_type": "code",
   "execution_count": 23,
   "id": "e038f38d-f9b0-4985-865d-d97d22bc8f6a",
   "metadata": {},
   "outputs": [
    {
     "name": "stdout",
     "output_type": "stream",
     "text": [
      "                            ds                  temp new_point\n",
      "0    2023-03-14 21:10:00+04:00  24.269638061523438°C    33.13%\n",
      "1    2023-03-14 21:15:00+04:00  24.269638061523438°C    33.13%\n",
      "2    2023-03-14 21:20:00+04:00  24.269638061523438°C    33.13%\n",
      "3    2023-03-14 21:25:00+04:00  24.269638061523438°C    33.13%\n",
      "4    2023-03-14 21:30:00+04:00  24.269638061523438°C    33.13%\n",
      "...                        ...                   ...       ...\n",
      "1195 2023-03-19 00:45:00+04:00  22.633480072021484°C    29.43%\n",
      "1196 2023-03-19 00:50:00+04:00  22.633480072021484°C    30.55%\n",
      "1197 2023-03-19 00:55:00+04:00  22.633480072021484°C    30.51%\n",
      "1198 2023-03-19 01:00:00+04:00  22.633480072021484°C    30.51%\n",
      "1199 2023-03-19 01:05:00+04:00  22.633480072021484°C    30.51%\n",
      "\n",
      "[1197 rows x 3 columns]\n"
     ]
    },
    {
     "name": "stderr",
     "output_type": "stream",
     "text": [
      "C:\\Users\\syounas\\AppData\\Local\\Temp\\ipykernel_352\\304330887.py:2: SettingWithCopyWarning: \n",
      "A value is trying to be set on a copy of a slice from a DataFrame.\n",
      "Try using .loc[row_indexer,col_indexer] = value instead\n",
      "\n",
      "See the caveats in the documentation: https://pandas.pydata.org/pandas-docs/stable/user_guide/indexing.html#returning-a-view-versus-a-copy\n",
      "  df['ds'] = df['ds'].str.replace(' Dubai', '', regex=False)\n",
      "C:\\Users\\syounas\\AppData\\Local\\Temp\\ipykernel_352\\304330887.py:5: SettingWithCopyWarning: \n",
      "A value is trying to be set on a copy of a slice from a DataFrame.\n",
      "Try using .loc[row_indexer,col_indexer] = value instead\n",
      "\n",
      "See the caveats in the documentation: https://pandas.pydata.org/pandas-docs/stable/user_guide/indexing.html#returning-a-view-versus-a-copy\n",
      "  df['ds'] = pd.to_datetime(df['ds'], format=\"%Y-%m-%dT%H:%M:%S%z\")\n"
     ]
    }
   ],
   "source": [
    "# Remove ' Dubai' from the datetime strings\n",
    "df['ds'] = df['ds'].str.replace(' Dubai', '', regex=False)\n",
    "\n",
    "# Convert the 'ds' column to datetime format\n",
    "df['ds'] = pd.to_datetime(df['ds'], format=\"%Y-%m-%dT%H:%M:%S%z\")\n",
    "\n",
    "# Print the DataFrame to check\n",
    "print(df)"
   ]
  },
  {
   "cell_type": "code",
   "execution_count": 1,
   "id": "6034ff56-9014-4a4b-b0e0-e428889e05eb",
   "metadata": {},
   "outputs": [
    {
     "name": "stderr",
     "output_type": "stream",
     "text": [
      "C:\\Users\\syounas\\OneDrive - Enova Facilities Management\\Tasks\\GitHub\\HubgradeDataCleaning\\Sana\\data_extraction\\dummy_data_extractor.py:16: FutureWarning: Setting an item of incompatible dtype is deprecated and will raise in a future error of pandas. Value '2023-03-12 01:05:00+04:00' has dtype incompatible with datetime64[ns], please explicitly cast to a compatible dtype first.\n",
      "  pythonDF.loc[i, 'dqStart'] = pd.to_datetime(df['ts'].iloc[i], format=\"%Y-%m-%dT%H:%M:%S%z Dubai\")\n",
      "C:\\Users\\syounas\\AppData\\Local\\Temp\\ipykernel_19424\\4232964390.py:21: SettingWithCopyWarning: \n",
      "A value is trying to be set on a copy of a slice from a DataFrame.\n",
      "Try using .loc[row_indexer,col_indexer] = value instead\n",
      "\n",
      "See the caveats in the documentation: https://pandas.pydata.org/pandas-docs/stable/user_guide/indexing.html#returning-a-view-versus-a-copy\n",
      "  df['ds'] = df['ds'].str.replace(' Dubai', '', regex=False)\n",
      "C:\\Users\\syounas\\AppData\\Local\\Temp\\ipykernel_19424\\4232964390.py:24: SettingWithCopyWarning: \n",
      "A value is trying to be set on a copy of a slice from a DataFrame.\n",
      "Try using .loc[row_indexer,col_indexer] = value instead\n",
      "\n",
      "See the caveats in the documentation: https://pandas.pydata.org/pandas-docs/stable/user_guide/indexing.html#returning-a-view-versus-a-copy\n",
      "  df['ds'] = pd.to_datetime(df['ds'], format=\"%Y-%m-%dT%H:%M:%S%z\")\n",
      "C:\\Users\\syounas\\AppData\\Local\\Temp\\ipykernel_19424\\4232964390.py:27: SettingWithCopyWarning: \n",
      "A value is trying to be set on a copy of a slice from a DataFrame.\n",
      "Try using .loc[row_indexer,col_indexer] = value instead\n",
      "\n",
      "See the caveats in the documentation: https://pandas.pydata.org/pandas-docs/stable/user_guide/indexing.html#returning-a-view-versus-a-copy\n",
      "  df['temp'] = df['temp'].str.extract('(\\d+\\.\\d+)').astype(float)\n"
     ]
    },
    {
     "name": "stdout",
     "output_type": "stream",
     "text": [
      "                            ds       temp new_point\n",
      "0    2023-03-14 21:10:00+04:00  24.269638    33.13%\n",
      "1    2023-03-14 21:15:00+04:00  24.269638    33.13%\n",
      "2    2023-03-14 21:20:00+04:00  24.269638    33.13%\n",
      "3    2023-03-14 21:25:00+04:00  24.269638    33.13%\n",
      "4    2023-03-14 21:30:00+04:00  24.269638    33.13%\n",
      "...                        ...        ...       ...\n",
      "1195 2023-03-19 00:45:00+04:00  22.633480    29.43%\n",
      "1196 2023-03-19 00:50:00+04:00  22.633480    30.55%\n",
      "1197 2023-03-19 00:55:00+04:00  22.633480    30.51%\n",
      "1198 2023-03-19 01:00:00+04:00  22.633480    30.51%\n",
      "1199 2023-03-19 01:05:00+04:00  22.633480    30.51%\n",
      "\n",
      "[1197 rows x 3 columns]\n"
     ]
    },
    {
     "ename": "ValueError",
     "evalue": "Column ds has timezone specified, which is not supported. Remove timezone.",
     "output_type": "error",
     "traceback": [
      "\u001b[1;31m---------------------------------------------------------------------------\u001b[0m",
      "\u001b[1;31mValueError\u001b[0m                                Traceback (most recent call last)",
      "Cell \u001b[1;32mIn[1], line 45\u001b[0m\n\u001b[0;32m     42\u001b[0m model \u001b[38;5;241m=\u001b[39m Prophet()\n\u001b[0;32m     44\u001b[0m \u001b[38;5;66;03m# Fit the model with training data\u001b[39;00m\n\u001b[1;32m---> 45\u001b[0m model\u001b[38;5;241m.\u001b[39mfit(train_df_prophet)\n\u001b[0;32m     47\u001b[0m \u001b[38;5;66;03m# Make future predictions for the test set\u001b[39;00m\n\u001b[0;32m     48\u001b[0m future \u001b[38;5;241m=\u001b[39m model\u001b[38;5;241m.\u001b[39mmake_future_dataframe(periods\u001b[38;5;241m=\u001b[39m\u001b[38;5;28mlen\u001b[39m(test_df), freq\u001b[38;5;241m=\u001b[39m\u001b[38;5;124m'\u001b[39m\u001b[38;5;124mH\u001b[39m\u001b[38;5;124m'\u001b[39m)\n",
      "File \u001b[1;32mC:\\Anaconda\\Lib\\site-packages\\prophet\\forecaster.py:1217\u001b[0m, in \u001b[0;36mProphet.fit\u001b[1;34m(self, df, **kwargs)\u001b[0m\n\u001b[0;32m   1213\u001b[0m \u001b[38;5;28;01mif\u001b[39;00m \u001b[38;5;28mself\u001b[39m\u001b[38;5;241m.\u001b[39mhistory \u001b[38;5;129;01mis\u001b[39;00m \u001b[38;5;129;01mnot\u001b[39;00m \u001b[38;5;28;01mNone\u001b[39;00m:\n\u001b[0;32m   1214\u001b[0m     \u001b[38;5;28;01mraise\u001b[39;00m \u001b[38;5;167;01mException\u001b[39;00m(\u001b[38;5;124m'\u001b[39m\u001b[38;5;124mProphet object can only be fit once. \u001b[39m\u001b[38;5;124m'\u001b[39m\n\u001b[0;32m   1215\u001b[0m                     \u001b[38;5;124m'\u001b[39m\u001b[38;5;124mInstantiate a new object.\u001b[39m\u001b[38;5;124m'\u001b[39m)\n\u001b[1;32m-> 1217\u001b[0m model_inputs \u001b[38;5;241m=\u001b[39m \u001b[38;5;28mself\u001b[39m\u001b[38;5;241m.\u001b[39mpreprocess(df, \u001b[38;5;241m*\u001b[39m\u001b[38;5;241m*\u001b[39mkwargs)\n\u001b[0;32m   1218\u001b[0m initial_params \u001b[38;5;241m=\u001b[39m \u001b[38;5;28mself\u001b[39m\u001b[38;5;241m.\u001b[39mcalculate_initial_params(model_inputs\u001b[38;5;241m.\u001b[39mK)\n\u001b[0;32m   1220\u001b[0m dat \u001b[38;5;241m=\u001b[39m dataclasses\u001b[38;5;241m.\u001b[39masdict(model_inputs)\n",
      "File \u001b[1;32mC:\\Anaconda\\Lib\\site-packages\\prophet\\forecaster.py:1135\u001b[0m, in \u001b[0;36mProphet.preprocess\u001b[1;34m(self, df, **kwargs)\u001b[0m\n\u001b[0;32m   1132\u001b[0m     \u001b[38;5;28;01mraise\u001b[39;00m \u001b[38;5;167;01mValueError\u001b[39;00m(\u001b[38;5;124m'\u001b[39m\u001b[38;5;124mDataframe has less than 2 non-NaN rows.\u001b[39m\u001b[38;5;124m'\u001b[39m)\n\u001b[0;32m   1133\u001b[0m \u001b[38;5;28mself\u001b[39m\u001b[38;5;241m.\u001b[39mhistory_dates \u001b[38;5;241m=\u001b[39m pd\u001b[38;5;241m.\u001b[39mto_datetime(pd\u001b[38;5;241m.\u001b[39mSeries(history[\u001b[38;5;124m'\u001b[39m\u001b[38;5;124mds\u001b[39m\u001b[38;5;124m'\u001b[39m]\u001b[38;5;241m.\u001b[39munique(), name\u001b[38;5;241m=\u001b[39m\u001b[38;5;124m'\u001b[39m\u001b[38;5;124mds\u001b[39m\u001b[38;5;124m'\u001b[39m))\u001b[38;5;241m.\u001b[39msort_values()\n\u001b[1;32m-> 1135\u001b[0m \u001b[38;5;28mself\u001b[39m\u001b[38;5;241m.\u001b[39mhistory \u001b[38;5;241m=\u001b[39m \u001b[38;5;28mself\u001b[39m\u001b[38;5;241m.\u001b[39msetup_dataframe(history, initialize_scales\u001b[38;5;241m=\u001b[39m\u001b[38;5;28;01mTrue\u001b[39;00m)\n\u001b[0;32m   1136\u001b[0m \u001b[38;5;28mself\u001b[39m\u001b[38;5;241m.\u001b[39mset_auto_seasonalities()\n\u001b[0;32m   1137\u001b[0m seasonal_features, prior_scales, component_cols, modes \u001b[38;5;241m=\u001b[39m (\n\u001b[0;32m   1138\u001b[0m     \u001b[38;5;28mself\u001b[39m\u001b[38;5;241m.\u001b[39mmake_all_seasonality_features(\u001b[38;5;28mself\u001b[39m\u001b[38;5;241m.\u001b[39mhistory))\n",
      "File \u001b[1;32mC:\\Anaconda\\Lib\\site-packages\\prophet\\forecaster.py:289\u001b[0m, in \u001b[0;36mProphet.setup_dataframe\u001b[1;34m(self, df, initialize_scales)\u001b[0m\n\u001b[0;32m    287\u001b[0m df[\u001b[38;5;124m'\u001b[39m\u001b[38;5;124mds\u001b[39m\u001b[38;5;124m'\u001b[39m] \u001b[38;5;241m=\u001b[39m pd\u001b[38;5;241m.\u001b[39mto_datetime(df[\u001b[38;5;124m'\u001b[39m\u001b[38;5;124mds\u001b[39m\u001b[38;5;124m'\u001b[39m])\n\u001b[0;32m    288\u001b[0m \u001b[38;5;28;01mif\u001b[39;00m df[\u001b[38;5;124m'\u001b[39m\u001b[38;5;124mds\u001b[39m\u001b[38;5;124m'\u001b[39m]\u001b[38;5;241m.\u001b[39mdt\u001b[38;5;241m.\u001b[39mtz \u001b[38;5;129;01mis\u001b[39;00m \u001b[38;5;129;01mnot\u001b[39;00m \u001b[38;5;28;01mNone\u001b[39;00m:\n\u001b[1;32m--> 289\u001b[0m     \u001b[38;5;28;01mraise\u001b[39;00m \u001b[38;5;167;01mValueError\u001b[39;00m(\n\u001b[0;32m    290\u001b[0m         \u001b[38;5;124m'\u001b[39m\u001b[38;5;124mColumn ds has timezone specified, which is not supported. \u001b[39m\u001b[38;5;124m'\u001b[39m\n\u001b[0;32m    291\u001b[0m         \u001b[38;5;124m'\u001b[39m\u001b[38;5;124mRemove timezone.\u001b[39m\u001b[38;5;124m'\u001b[39m\n\u001b[0;32m    292\u001b[0m     )\n\u001b[0;32m    293\u001b[0m \u001b[38;5;28;01mif\u001b[39;00m df[\u001b[38;5;124m'\u001b[39m\u001b[38;5;124mds\u001b[39m\u001b[38;5;124m'\u001b[39m]\u001b[38;5;241m.\u001b[39misnull()\u001b[38;5;241m.\u001b[39many():\n\u001b[0;32m    294\u001b[0m     \u001b[38;5;28;01mraise\u001b[39;00m \u001b[38;5;167;01mValueError\u001b[39;00m(\u001b[38;5;124m'\u001b[39m\u001b[38;5;124mFound NaN in column ds.\u001b[39m\u001b[38;5;124m'\u001b[39m)\n",
      "\u001b[1;31mValueError\u001b[0m: Column ds has timezone specified, which is not supported. Remove timezone."
     ]
    }
   ],
   "source": [
    "import pandas as pd\n",
    "from prophet import Prophet\n",
    "from sklearn.metrics import mean_squared_error\n",
    "import numpy as np\n",
    "from data_extraction.dummy_data_extractor import extract_dummy_data\n",
    "\n",
    "# Assuming 'extract_dummy_data' function extracts data into 'master_table'\n",
    "master_table = extract_dummy_data(\"dummy_data\")\n",
    "\n",
    "# Extract the relevant dataframe from 'master_table'\n",
    "df = master_table.at[1, \"his\"]\n",
    "\n",
    "# Reset index and drop NA values\n",
    "df.reset_index(inplace=True)\n",
    "df = df.dropna()\n",
    "\n",
    "# Rename columns for consistency\n",
    "df.columns = ['ds', 'temp', 'new_point']\n",
    "\n",
    "# Remove ' Dubai' from the datetime strings\n",
    "df['ds'] = df['ds'].str.replace(' Dubai', '', regex=False)\n",
    "\n",
    "# Convert the 'ds' column to datetime format\n",
    "df['ds'] = pd.to_datetime(df['ds'], format=\"%Y-%m-%dT%H:%M:%S%z\")\n",
    "\n",
    "# Extract numeric temperature values\n",
    "df['temp'] = df['temp'].str.extract('(\\d+\\.\\d+)').astype(float)\n",
    "\n",
    "# Print the DataFrame to check\n",
    "print(df)\n",
    "\n",
    "# Split data into train and test sets\n",
    "train_size = int(len(df) * 0.8)  # 80% for training\n",
    "train_df = df.iloc[:train_size]\n",
    "test_df = df.iloc[train_size:]\n",
    "\n",
    "# Prepare the dataframe with required column names for Prophet\n",
    "train_df_prophet = train_df[['ds', 'temp']].copy()\n",
    "train_df_prophet.rename(columns={'temp': 'y'}, inplace=True)  # Rename 'temp' to 'y'\n",
    "\n",
    "# Initialize Prophet model\n",
    "model = Prophet()\n",
    "\n",
    "# Fit the model with training data\n",
    "model.fit(train_df_prophet)\n",
    "\n",
    "# Make future predictions for the test set\n",
    "future = model.make_future_dataframe(periods=len(test_df), freq='H')\n",
    "forecast = model.predict(future)\n",
    "\n",
    "# Calculate RMSE (Root Mean Squared Error)\n",
    "y_true = test_df['temp'].values\n",
    "y_pred = forecast['yhat'].values[-len(test_df):]\n",
    "rmse = np.sqrt(mean_squared_error(y_true, y_pred))\n",
    "print(f\"RMSE: {rmse}\")\n",
    "\n",
    "# Save test set to CSV\n",
    "test_df.to_csv(r'C:\\Users\\syounas\\OneDrive - Enova Facilities Management\\Tasks\\GitHub\\HubgradeDataCleaning\\Sana\\Data\\test.csv', index=False)\n"
   ]
  },
  {
   "cell_type": "code",
   "execution_count": null,
   "id": "f8900d3a-8e3a-4264-9054-b9cc0682a107",
   "metadata": {},
   "outputs": [],
   "source": []
  }
 ],
 "metadata": {
  "kernelspec": {
   "display_name": "Python 3 (ipykernel)",
   "language": "python",
   "name": "python3"
  },
  "language_info": {
   "codemirror_mode": {
    "name": "ipython",
    "version": 3
   },
   "file_extension": ".py",
   "mimetype": "text/x-python",
   "name": "python",
   "nbconvert_exporter": "python",
   "pygments_lexer": "ipython3",
   "version": "3.11.7"
  }
 },
 "nbformat": 4,
 "nbformat_minor": 5
}
