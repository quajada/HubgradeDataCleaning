{
 "cells": [
  {
   "cell_type": "code",
   "execution_count": 1,
   "id": "9feda3f2",
   "metadata": {},
   "outputs": [],
   "source": [
    "from project.data_extraction.dummy_data_extractor import extract_dummy_data"
   ]
  },
  {
   "cell_type": "code",
   "execution_count": 3,
   "id": "d227b032",
   "metadata": {},
   "outputs": [],
   "source": [
    "master_table = extract_dummy_data(r\"C:\\Users\\abbayoumi\\OneDrive - Enova Facilities Management\\Desktop\\REPOs\\main\\HubgradeDataCleaning\\project\\dummy_data\")"
   ]
  },
  {
   "cell_type": "code",
   "execution_count": 4,
   "id": "e646ff29",
   "metadata": {},
   "outputs": [
    {
     "data": {
      "text/html": [
       "<div>\n",
       "<style scoped>\n",
       "    .dataframe tbody tr th:only-of-type {\n",
       "        vertical-align: middle;\n",
       "    }\n",
       "\n",
       "    .dataframe tbody tr th {\n",
       "        vertical-align: top;\n",
       "    }\n",
       "\n",
       "    .dataframe thead th {\n",
       "        text-align: right;\n",
       "    }\n",
       "</style>\n",
       "<table border=\"1\" class=\"dataframe\">\n",
       "  <thead>\n",
       "    <tr style=\"text-align: right;\">\n",
       "      <th></th>\n",
       "      <th>pointID</th>\n",
       "      <th>unit</th>\n",
       "      <th>dqType</th>\n",
       "      <th>dqStart</th>\n",
       "      <th>dqDuration</th>\n",
       "      <th>pointInterval</th>\n",
       "      <th>features</th>\n",
       "      <th>his</th>\n",
       "    </tr>\n",
       "  </thead>\n",
       "  <tbody>\n",
       "    <tr>\n",
       "      <th>0</th>\n",
       "      <td>@p:dmc_All:r:2ddf07d5-ef59ca94 DMC Building 1 ...</td>\n",
       "      <td>°C</td>\n",
       "      <td>Nulls</td>\n",
       "      <td>2023-03-12 01:05:00+04:00</td>\n",
       "      <td>1 days 11:10:00</td>\n",
       "      <td>0 days 00:05:00</td>\n",
       "      <td>[p:dmc_All:r:2de337c0-72b69972]</td>\n",
       "      <td>DMC Building 1...</td>\n",
       "    </tr>\n",
       "    <tr>\n",
       "      <th>1</th>\n",
       "      <td>@p:dmc_All:r:2ddf07d5-ef59ca94 DMC Building 1 ...</td>\n",
       "      <td>°C</td>\n",
       "      <td>Nulls</td>\n",
       "      <td>2023-03-19 01:10:00+04:00</td>\n",
       "      <td>0 days 23:30:00</td>\n",
       "      <td>0 days 00:05:00</td>\n",
       "      <td>[p:dmc_All:r:2de337c0-72b69972]</td>\n",
       "      <td>DMC Building 1...</td>\n",
       "    </tr>\n",
       "  </tbody>\n",
       "</table>\n",
       "</div>"
      ],
      "text/plain": [
       "                                             pointID unit dqType  \\\n",
       "0  @p:dmc_All:r:2ddf07d5-ef59ca94 DMC Building 1 ...   °C  Nulls   \n",
       "1  @p:dmc_All:r:2ddf07d5-ef59ca94 DMC Building 1 ...   °C  Nulls   \n",
       "\n",
       "                    dqStart      dqDuration   pointInterval  \\\n",
       "0 2023-03-12 01:05:00+04:00 1 days 11:10:00 0 days 00:05:00   \n",
       "1 2023-03-19 01:10:00+04:00 0 days 23:30:00 0 days 00:05:00   \n",
       "\n",
       "                          features  \\\n",
       "0  [p:dmc_All:r:2de337c0-72b69972]   \n",
       "1  [p:dmc_All:r:2de337c0-72b69972]   \n",
       "\n",
       "                                                 his  \n",
       "0                                  DMC Building 1...  \n",
       "1                                  DMC Building 1...  "
      ]
     },
     "execution_count": 4,
     "metadata": {},
     "output_type": "execute_result"
    }
   ],
   "source": [
    "master_table"
   ]
  }
 ],
 "metadata": {
  "kernelspec": {
   "display_name": "Python 3 (ipykernel)",
   "language": "python",
   "name": "python3"
  },
  "language_info": {
   "codemirror_mode": {
    "name": "ipython",
    "version": 3
   },
   "file_extension": ".py",
   "mimetype": "text/x-python",
   "name": "python",
   "nbconvert_exporter": "python",
   "pygments_lexer": "ipython3",
   "version": "3.9.17"
  }
 },
 "nbformat": 4,
 "nbformat_minor": 5
}
